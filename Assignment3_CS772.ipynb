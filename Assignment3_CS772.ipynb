{
  "nbformat": 4,
  "nbformat_minor": 0,
  "metadata": {
    "colab": {
      "name": "Assignment3_CS772.ipynb",
      "provenance": [],
      "collapsed_sections": []
    },
    "kernelspec": {
      "name": "python3",
      "display_name": "Python 3"
    },
    "language_info": {
      "name": "python"
    },
    "accelerator": "GPU"
  },
  "cells": [
    {
      "cell_type": "markdown",
      "metadata": {
        "id": "XPP7K_N459zk"
      },
      "source": [
        "\n",
        "#Installing Dependencies and Reading in Data"
      ]
    },
    {
      "cell_type": "code",
      "metadata": {
        "id": "wE_zqR8T531l",
        "colab": {
          "base_uri": "https://localhost:8080/"
        },
        "outputId": "a68c40b9-37ff-4e70-b388-5abf9a54df9f"
      },
      "source": [
        "import pandas as pd\n",
        "import numpy as np\n",
        "import string\n",
        "import nltk\n",
        "from nltk.corpus import stopwords\n",
        "nltk.download('stopwords')\n",
        "from nltk.tokenize import word_tokenize\n",
        "nltk.download('punkt')\n",
        "from keras.models import Sequential,Model\n",
        "from keras.layers import Dense,Dropout,Activation\n",
        "from keras.layers import Flatten,Input\n",
        "from keras.layers import Embedding,LSTM,Bidirectional,GRU,SimpleRNN\n",
        "from keras.layers import concatenate\n",
        "from keras.utils import to_categorical\n",
        "from IPython.display import SVG\n",
        "#from keras.utils import model_to_dot\n",
        "from keras.utils.vis_utils import model_to_dot\n",
        "from keras.preprocessing.text import Tokenizer\n",
        "from keras.preprocessing.sequence import pad_sequences\n",
        "from sklearn.preprocessing import LabelEncoder\n",
        "from keras.utils import to_categorical\n",
        "from sklearn.model_selection import train_test_split\n",
        "from sklearn.metrics import classification_report\n",
        "from sklearn.metrics import precision_score\n",
        "from sklearn.metrics import recall_score\n",
        "from sklearn.metrics import f1_score"
      ],
      "execution_count": null,
      "outputs": [
        {
          "output_type": "stream",
          "text": [
            "[nltk_data] Downloading package stopwords to /root/nltk_data...\n",
            "[nltk_data]   Package stopwords is already up-to-date!\n",
            "[nltk_data] Downloading package punkt to /root/nltk_data...\n",
            "[nltk_data]   Package punkt is already up-to-date!\n"
          ],
          "name": "stdout"
        }
      ]
    },
    {
      "cell_type": "code",
      "metadata": {
        "id": "fmLWwKQN6DVy",
        "colab": {
          "base_uri": "https://localhost:8080/"
        },
        "outputId": "bdf6ec07-0c4e-4dea-ceb8-55eb598c7fc7"
      },
      "source": [
        "from google.colab import drive\n",
        "drive.mount('/content/drive/')\n",
        "train_data = pd.read_csv('/content/drive/Shareddrives/CS772/training.csv')\n",
        "test_data= pd.read_csv('/content/drive/Shareddrives/CS772/golden_test.csv')"
      ],
      "execution_count": null,
      "outputs": [
        {
          "output_type": "stream",
          "text": [
            "Drive already mounted at /content/drive/; to attempt to forcibly remount, call drive.mount(\"/content/drive/\", force_remount=True).\n"
          ],
          "name": "stdout"
        }
      ]
    },
    {
      "cell_type": "code",
      "metadata": {
        "id": "yLZUhzl26OR6"
      },
      "source": [
        "#Please uncomment the following if not able to read files as above\n",
        "#from google.colab import upload\n",
        "#uploaded=files.upload()\n",
        "#train_data=pd.read_csv('train.csv')\n",
        "#test_data=pd.read_csv('gold_test.csv')"
      ],
      "execution_count": null,
      "outputs": []
    },
    {
      "cell_type": "code",
      "metadata": {
        "id": "vCbXfOL-6glZ",
        "colab": {
          "base_uri": "https://localhost:8080/",
          "height": 813
        },
        "outputId": "eebd1130-e53b-41e1-b12f-b4039dc845d3"
      },
      "source": [
        "display(train_data,test_data)"
      ],
      "execution_count": null,
      "outputs": [
        {
          "output_type": "display_data",
          "data": {
            "text/html": [
              "<div>\n",
              "<style scoped>\n",
              "    .dataframe tbody tr th:only-of-type {\n",
              "        vertical-align: middle;\n",
              "    }\n",
              "\n",
              "    .dataframe tbody tr th {\n",
              "        vertical-align: top;\n",
              "    }\n",
              "\n",
              "    .dataframe thead th {\n",
              "        text-align: right;\n",
              "    }\n",
              "</style>\n",
              "<table border=\"1\" class=\"dataframe\">\n",
              "  <thead>\n",
              "    <tr style=\"text-align: right;\">\n",
              "      <th></th>\n",
              "      <th>Unnamed: 0</th>\n",
              "      <th>reviews</th>\n",
              "      <th>ratings</th>\n",
              "    </tr>\n",
              "  </thead>\n",
              "  <tbody>\n",
              "    <tr>\n",
              "      <th>0</th>\n",
              "      <td>0</td>\n",
              "      <td>This book was very informative, covering all a...</td>\n",
              "      <td>4</td>\n",
              "    </tr>\n",
              "    <tr>\n",
              "      <th>1</th>\n",
              "      <td>1</td>\n",
              "      <td>I am already a baseball fan and knew a bit abo...</td>\n",
              "      <td>5</td>\n",
              "    </tr>\n",
              "    <tr>\n",
              "      <th>2</th>\n",
              "      <td>2</td>\n",
              "      <td>I didn't like this product it smudged all unde...</td>\n",
              "      <td>1</td>\n",
              "    </tr>\n",
              "    <tr>\n",
              "      <th>3</th>\n",
              "      <td>3</td>\n",
              "      <td>I simply love the product. I appreciate print ...</td>\n",
              "      <td>5</td>\n",
              "    </tr>\n",
              "    <tr>\n",
              "      <th>4</th>\n",
              "      <td>4</td>\n",
              "      <td>It goes on very easily and makes my eyes look ...</td>\n",
              "      <td>5</td>\n",
              "    </tr>\n",
              "    <tr>\n",
              "      <th>...</th>\n",
              "      <td>...</td>\n",
              "      <td>...</td>\n",
              "      <td>...</td>\n",
              "    </tr>\n",
              "    <tr>\n",
              "      <th>49995</th>\n",
              "      <td>49995</td>\n",
              "      <td>it does not work((((((((((((</td>\n",
              "      <td>1</td>\n",
              "    </tr>\n",
              "    <tr>\n",
              "      <th>49996</th>\n",
              "      <td>49996</td>\n",
              "      <td>Really worthless, loud motor with absolutely n...</td>\n",
              "      <td>1</td>\n",
              "    </tr>\n",
              "    <tr>\n",
              "      <th>49997</th>\n",
              "      <td>49997</td>\n",
              "      <td>Don't waste your money on this. It does nothin...</td>\n",
              "      <td>1</td>\n",
              "    </tr>\n",
              "    <tr>\n",
              "      <th>49998</th>\n",
              "      <td>49998</td>\n",
              "      <td>Product does not remove ear wax. No suction, j...</td>\n",
              "      <td>1</td>\n",
              "    </tr>\n",
              "    <tr>\n",
              "      <th>49999</th>\n",
              "      <td>49999</td>\n",
              "      <td>If you wear hearing aids these are great for r...</td>\n",
              "      <td>5</td>\n",
              "    </tr>\n",
              "  </tbody>\n",
              "</table>\n",
              "<p>50000 rows × 3 columns</p>\n",
              "</div>"
            ],
            "text/plain": [
              "       Unnamed: 0                                            reviews  ratings\n",
              "0               0  This book was very informative, covering all a...        4\n",
              "1               1  I am already a baseball fan and knew a bit abo...        5\n",
              "2               2  I didn't like this product it smudged all unde...        1\n",
              "3               3  I simply love the product. I appreciate print ...        5\n",
              "4               4  It goes on very easily and makes my eyes look ...        5\n",
              "...           ...                                                ...      ...\n",
              "49995       49995                       it does not work((((((((((((        1\n",
              "49996       49996  Really worthless, loud motor with absolutely n...        1\n",
              "49997       49997  Don't waste your money on this. It does nothin...        1\n",
              "49998       49998  Product does not remove ear wax. No suction, j...        1\n",
              "49999       49999  If you wear hearing aids these are great for r...        5\n",
              "\n",
              "[50000 rows x 3 columns]"
            ]
          },
          "metadata": {
            "tags": []
          }
        },
        {
          "output_type": "display_data",
          "data": {
            "text/html": [
              "<div>\n",
              "<style scoped>\n",
              "    .dataframe tbody tr th:only-of-type {\n",
              "        vertical-align: middle;\n",
              "    }\n",
              "\n",
              "    .dataframe tbody tr th {\n",
              "        vertical-align: top;\n",
              "    }\n",
              "\n",
              "    .dataframe thead th {\n",
              "        text-align: right;\n",
              "    }\n",
              "</style>\n",
              "<table border=\"1\" class=\"dataframe\">\n",
              "  <thead>\n",
              "    <tr style=\"text-align: right;\">\n",
              "      <th></th>\n",
              "      <th>Unnamed: 0</th>\n",
              "      <th>reviews</th>\n",
              "      <th>ratings</th>\n",
              "    </tr>\n",
              "  </thead>\n",
              "  <tbody>\n",
              "    <tr>\n",
              "      <th>0</th>\n",
              "      <td>0</td>\n",
              "      <td>Doesn't work at ALL. Don't waste your money or...</td>\n",
              "      <td>1</td>\n",
              "    </tr>\n",
              "    <tr>\n",
              "      <th>1</th>\n",
              "      <td>1</td>\n",
              "      <td>What crap.  Would need a lot more power to do ...</td>\n",
              "      <td>1</td>\n",
              "    </tr>\n",
              "    <tr>\n",
              "      <th>2</th>\n",
              "      <td>2</td>\n",
              "      <td>Has no suction and didn't work. Not worth trying.</td>\n",
              "      <td>1</td>\n",
              "    </tr>\n",
              "    <tr>\n",
              "      <th>3</th>\n",
              "      <td>3</td>\n",
              "      <td>That is definitely a trash. Unable to clean an...</td>\n",
              "      <td>1</td>\n",
              "    </tr>\n",
              "    <tr>\n",
              "      <th>4</th>\n",
              "      <td>4</td>\n",
              "      <td>Didn't even worked on cleaning the ears at all...</td>\n",
              "      <td>1</td>\n",
              "    </tr>\n",
              "    <tr>\n",
              "      <th>...</th>\n",
              "      <td>...</td>\n",
              "      <td>...</td>\n",
              "      <td>...</td>\n",
              "    </tr>\n",
              "    <tr>\n",
              "      <th>9995</th>\n",
              "      <td>9995</td>\n",
              "      <td>Awesome product for all types of skin!  Helped...</td>\n",
              "      <td>5</td>\n",
              "    </tr>\n",
              "    <tr>\n",
              "      <th>9996</th>\n",
              "      <td>9996</td>\n",
              "      <td>So easy to use. This is great option for helpi...</td>\n",
              "      <td>5</td>\n",
              "    </tr>\n",
              "    <tr>\n",
              "      <th>9997</th>\n",
              "      <td>9997</td>\n",
              "      <td>Such a great product to help with razor bumps ...</td>\n",
              "      <td>5</td>\n",
              "    </tr>\n",
              "    <tr>\n",
              "      <th>9998</th>\n",
              "      <td>9998</td>\n",
              "      <td>Perfect product to apply to razor burn on my b...</td>\n",
              "      <td>5</td>\n",
              "    </tr>\n",
              "    <tr>\n",
              "      <th>9999</th>\n",
              "      <td>9999</td>\n",
              "      <td>I've had this case for a 3weeks  and I dropped...</td>\n",
              "      <td>1</td>\n",
              "    </tr>\n",
              "  </tbody>\n",
              "</table>\n",
              "<p>10000 rows × 3 columns</p>\n",
              "</div>"
            ],
            "text/plain": [
              "      Unnamed: 0                                            reviews  ratings\n",
              "0              0  Doesn't work at ALL. Don't waste your money or...        1\n",
              "1              1  What crap.  Would need a lot more power to do ...        1\n",
              "2              2  Has no suction and didn't work. Not worth trying.        1\n",
              "3              3  That is definitely a trash. Unable to clean an...        1\n",
              "4              4  Didn't even worked on cleaning the ears at all...        1\n",
              "...          ...                                                ...      ...\n",
              "9995        9995  Awesome product for all types of skin!  Helped...        5\n",
              "9996        9996  So easy to use. This is great option for helpi...        5\n",
              "9997        9997  Such a great product to help with razor bumps ...        5\n",
              "9998        9998  Perfect product to apply to razor burn on my b...        5\n",
              "9999        9999  I've had this case for a 3weeks  and I dropped...        1\n",
              "\n",
              "[10000 rows x 3 columns]"
            ]
          },
          "metadata": {
            "tags": []
          }
        }
      ]
    },
    {
      "cell_type": "markdown",
      "metadata": {
        "id": "ZaDIZaLn6p5u"
      },
      "source": [
        "#Preprocessing textual Data:\n",
        "\n",
        "\n",
        "*   Converting Data to Lower Case\n",
        "*   Removing Punctuation\n",
        "\n",
        "*    Converting ratings into one hot encodings\n",
        "*    Dividing training set further into training and validation\n",
        "\n",
        "The data is preprocessed to use as \n",
        "\n",
        "*   Representations without any pre-trained embeddings\n",
        "*   Using Glove Pre-trained Embedding"
      ]
    },
    {
      "cell_type": "code",
      "metadata": {
        "id": "f5vWHcex6jg2"
      },
      "source": [
        "def remove_punctuation(text):\n",
        "  no_pun=[char for char in text if char not in string.punctuation]\n",
        "  no_pun=''.join(no_pun)\n",
        "  return no_pun\n",
        "\n",
        "def remove_stopwords(text):\n",
        "  stop_words=set(stopwords.words('english'))\n",
        "  sent=''\n",
        "  for i in text.split():\n",
        "    if i not in stop_words:\n",
        "      sent+=i+\" \"\n",
        "  return sent\n",
        "\n",
        "reviews_train=train_data['reviews']\n",
        "reviews_test =test_data['reviews']\n",
        "#Converting text to all lower case letters.\n",
        "reviews_train=reviews_train.apply(lambda x:x.lower())\n",
        "reviews_test=reviews_test.apply(lambda x:x.lower())\n",
        "#Removing Punctuation\n",
        "reviews_train=reviews_train.apply(remove_punctuation)\n",
        "reviews_test=reviews_test.apply(remove_punctuation)\n",
        "#Removing StopWords\n",
        "# \"\"\"Stopwords are those words which are very commonly used and do not add\n",
        "# a lot to the sentiment of the sentences which is the major goal.\"\"\"\n",
        "# reviews_train=reviews_train.apply(remove_stopwords)\n",
        "# reviews_test=reviews_test.apply(remove_stopwords)"
      ],
      "execution_count": null,
      "outputs": []
    },
    {
      "cell_type": "code",
      "metadata": {
        "id": "75jiY2kb7-ho"
      },
      "source": [
        "(count, col) = train_data.shape\n",
        "texts_train = []\n",
        "for i in range (0, count):\n",
        "  texts_train.append(reviews_train[i])\n",
        "\n",
        "(count_test, col_train) = test_data.shape\n",
        "texts_test = []\n",
        "for i in range (0, count_test):\n",
        "  texts_test.append(reviews_test[i])"
      ],
      "execution_count": null,
      "outputs": []
    },
    {
      "cell_type": "code",
      "metadata": {
        "id": "AwMiFrlv7jVq",
        "colab": {
          "base_uri": "https://localhost:8080/"
        },
        "outputId": "302bf73f-4812-4955-ddb5-607549de66f5"
      },
      "source": [
        "MAX_WORDS = 20000\n",
        "MAX_SEQUENCE_LENGTH = 52\n",
        "#Note that MAX_SEQUENCE_LENGTH is an important parameter\n",
        "tokenizer = Tokenizer(num_words=MAX_WORDS)\n",
        "tokenizer.fit_on_texts(texts_train)\n",
        "vocab_size = len(tokenizer.word_index) + 1\n",
        "\n",
        "sequences_train = tokenizer.texts_to_sequences(texts_train)\n",
        "sequences_test = tokenizer.texts_to_sequences(texts_test)\n",
        "\n",
        "word_index = tokenizer.word_index\n",
        "print('Found %s unique tokens.' % len(word_index))\n",
        "\n",
        "train_X = pad_sequences(sequences_train, maxlen=MAX_SEQUENCE_LENGTH,padding='post')\n",
        "test_X = pad_sequences(sequences_test, maxlen=MAX_SEQUENCE_LENGTH,padding='post')"
      ],
      "execution_count": null,
      "outputs": [
        {
          "output_type": "stream",
          "text": [
            "Found 19490 unique tokens.\n"
          ],
          "name": "stdout"
        }
      ]
    },
    {
      "cell_type": "code",
      "metadata": {
        "id": "iYJVgptJ8dFE",
        "colab": {
          "base_uri": "https://localhost:8080/",
          "height": 139
        },
        "outputId": "5e340520-4ed8-4f24-d6f7-e07567bef2ba"
      },
      "source": [
        "display(X_training)"
      ],
      "execution_count": null,
      "outputs": [
        {
          "output_type": "display_data",
          "data": {
            "text/plain": [
              "array([[ 443,  217, 1680, ...,    0,    0,    0],\n",
              "       [  57,  136,    9, ...,    0,    0,    0],\n",
              "       [  74,    3, 7060, ...,    0,    0,    0],\n",
              "       ...,\n",
              "       [   1,  228,   10, ...,    0,    0,    0],\n",
              "       [  89,   59,    9, ...,    0,    0,    0],\n",
              "       [   3,   14,    6, ...,    0,    0,    0]], dtype=int32)"
            ]
          },
          "metadata": {
            "tags": []
          }
        }
      ]
    },
    {
      "cell_type": "code",
      "metadata": {
        "id": "ArsF5Pj5-JV8",
        "colab": {
          "base_uri": "https://localhost:8080/",
          "height": 369
        },
        "outputId": "dfd3082c-e813-4acf-b86e-1b3e440f974c"
      },
      "source": [
        "import matplotlib.pyplot as plt\n",
        "\n",
        "plt.hist(train_data.ratings)\n",
        "plt.show()\n",
        "train_data['ratings'].value_counts()"
      ],
      "execution_count": null,
      "outputs": [
        {
          "output_type": "display_data",
          "data": {
            "image/png": "[encoded data removed]",
            "text/plain": [
              "<Figure size 432x288 with 1 Axes>"
            ]
          },
          "metadata": {
            "tags": [],
            "needs_background": "light"
          }
        },
        {
          "output_type": "execute_result",
          "data": {
            "text/plain": [
              "5    33193\n",
              "4     6871\n",
              "1     4059\n",
              "3     3612\n",
              "2     2265\n",
              "Name: ratings, dtype: int64"
            ]
          },
          "metadata": {
            "tags": []
          },
          "execution_count": 52
        }
      ]
    },
    {
      "cell_type": "markdown",
      "metadata": {
        "id": "46g9LKb6-qEb"
      },
      "source": [
        "Clearly the data is imbalanced and we need to do something to get over the imbalance."
      ]
    },
    {
      "cell_type": "markdown",
      "metadata": {
        "id": "tfZt2u459VYQ"
      },
      "source": [
        "#Working for Data Imbalance\n",
        "Using UnderSampling to reduce imbalance at class 5."
      ]
    },
    {
      "cell_type": "code",
      "metadata": {
        "id": "dU0lFA9_--jQ"
      },
      "source": [
        "le = LabelEncoder()\n",
        "train_y = le.fit_transform(train_data.ratings)\n",
        "test_y = le.fit_transform(test_data.ratings)\n",
        "train_y = to_categorical(np.asarray(train_y))\n",
        "test_y= to_categorical(np.asarray(test_y))\n",
        "X_training, X_validating, Y_training, Y_validating = train_test_split(train_X, train_y,stratify = train_y, test_size=0.15, random_state = 40)"
      ],
      "execution_count": null,
      "outputs": []
    },
    {
      "cell_type": "code",
      "metadata": {
        "id": "ArBCLvNvjGqG",
        "colab": {
          "base_uri": "https://localhost:8080/"
        },
        "outputId": "44953139-2390-4fe1-ce0f-7d57525fde34"
      },
      "source": [
        "from imblearn.under_sampling import RandomUnderSampler\n",
        "from imblearn.over_sampling import RandomOverSampler\n",
        "undersample=RandomUnderSampler(sampling_strategy={1:4059,2:2265,3:3612,4:6871,5:15000})\n",
        "oversample=RandomOverSampler(sampling_strategy={1:8000,2:8000,3:8000,4:8000,5:33193})\n",
        "X_under,Y_under=oversample.fit_resample(train_X,train_data.ratings)"
      ],
      "execution_count": null,
      "outputs": [
        {
          "output_type": "stream",
          "text": [
            "/usr/local/lib/python3.7/dist-packages/sklearn/utils/deprecation.py:87: FutureWarning: Function safe_indexing is deprecated; safe_indexing is deprecated in version 0.22 and will be removed in version 0.24.\n",
            "  warnings.warn(msg, category=FutureWarning)\n"
          ],
          "name": "stderr"
        }
      ]
    },
    {
      "cell_type": "code",
      "metadata": {
        "id": "1gcQW2uSBH7g",
        "colab": {
          "base_uri": "https://localhost:8080/",
          "height": 520
        },
        "outputId": "8f259f37-c290-495a-fa88-9ddfaf113705"
      },
      "source": [
        "display(X_training,X_validating)\n",
        "display(Y_training,Y_validating)\n",
        "print(len(X_training),len(X_validating))"
      ],
      "execution_count": null,
      "outputs": [
        {
          "output_type": "display_data",
          "data": {
            "text/plain": [
              "array([[ 443,  217, 1680, ...,    0,    0,    0],\n",
              "       [  57,  136,    9, ...,    0,    0,    0],\n",
              "       [  74,    3, 7060, ...,    0,    0,    0],\n",
              "       ...,\n",
              "       [   1,  228,   10, ...,    0,    0,    0],\n",
              "       [  89,   59,    9, ...,    0,    0,    0],\n",
              "       [   3,   14,    6, ...,    0,    0,    0]], dtype=int32)"
            ]
          },
          "metadata": {
            "tags": []
          }
        },
        {
          "output_type": "display_data",
          "data": {
            "text/plain": [
              "array([[   6,  187,   10, ...,    0,    0,    0],\n",
              "       [   9,    1,  460, ...,    0,    0,    0],\n",
              "       [  12,   23,  147, ...,    0,    0,    0],\n",
              "       ...,\n",
              "       [  11, 2312,  141, ...,    0,    0,    0],\n",
              "       [  19,   12,    4, ...,    0,    0,    0],\n",
              "       [  89,   59,    9, ...,    0,    0,    0]], dtype=int32)"
            ]
          },
          "metadata": {
            "tags": []
          }
        },
        {
          "output_type": "display_data",
          "data": {
            "text/plain": [
              "array([[0., 0., 0., 1., 0.],\n",
              "       [0., 0., 1., 0., 0.],\n",
              "       [1., 0., 0., 0., 0.],\n",
              "       ...,\n",
              "       [0., 0., 1., 0., 0.],\n",
              "       [0., 0., 0., 0., 1.],\n",
              "       [0., 0., 0., 0., 1.]], dtype=float32)"
            ]
          },
          "metadata": {
            "tags": []
          }
        },
        {
          "output_type": "display_data",
          "data": {
            "text/plain": [
              "array([[0., 0., 0., 0., 1.],\n",
              "       [0., 0., 0., 0., 1.],\n",
              "       [0., 0., 0., 0., 1.],\n",
              "       ...,\n",
              "       [0., 0., 0., 0., 1.],\n",
              "       [0., 0., 0., 1., 0.],\n",
              "       [0., 0., 0., 0., 1.]], dtype=float32)"
            ]
          },
          "metadata": {
            "tags": []
          }
        },
        {
          "output_type": "stream",
          "text": [
            "42500 7500\n"
          ],
          "name": "stdout"
        }
      ]
    },
    {
      "cell_type": "markdown",
      "metadata": {
        "id": "RQq-LZtq8E4x"
      },
      "source": [
        "# Building The Various Models without any Pretrained Embedding\n",
        "\n",
        "Models are:\n",
        "\n",
        "*   RNN\n",
        "*   LSTM\n",
        "*   Bi-LSTM\n",
        "*   GRU\n",
        "*   Bi-GRU"
      ]
    },
    {
      "cell_type": "markdown",
      "metadata": {
        "id": "Gwy1dktZTfVQ"
      },
      "source": [
        "#Using RNNs"
      ]
    },
    {
      "cell_type": "code",
      "metadata": {
        "id": "7yaPINZmTeyQ",
        "colab": {
          "base_uri": "https://localhost:8080/",
          "height": 949
        },
        "outputId": "4923d667-4086-4ea7-bd08-2b51e62d8ff6"
      },
      "source": [
        "# Add sequential model\n",
        "sentiment_rnn = Sequential()\n",
        "# Add embedding layer \n",
        "#No of output dimenstions is 100 as we embedded with Glove 100d\n",
        "Embed_Layer = Embedding(vocab_size,100, input_length=(MAX_SEQUENCE_LENGTH,), trainable=True)\n",
        "#define Inputs\n",
        "review_input = Input(shape=(MAX_SEQUENCE_LENGTH,),dtype= 'int32',name = 'review_input')\n",
        "review_embedding = Embed_Layer(review_input)\n",
        "Rnn_Layer = SimpleRNN(100)\n",
        "Rnn = Rnn_Layer(review_embedding)\n",
        "output_size = 5\n",
        "dense1= Dense(25,activation='sigmoid')(Rnn)\n",
        "predict = Dense(5,activation='softmax')(dense1)\n",
        "\n",
        "sentiment_rnn = Model(inputs=[review_input],outputs=[predict])\n",
        "sentiment_rnn.compile(optimizer='adam',loss='categorical_crossentropy',metrics=['acc'])\n",
        "print(sentiment_rnn.summary())\n",
        "SVG(model_to_dot(sentiment_rnn).create(prog='dot', format='svg'))"
      ],
      "execution_count": null,
      "outputs": [
        {
          "output_type": "stream",
          "text": [
            "Model: \"model_1\"\n",
            "_________________________________________________________________\n",
            "Layer (type)                 Output Shape              Param #   \n",
            "=================================================================\n",
            "review_input (InputLayer)    [(None, 52)]              0         \n",
            "_________________________________________________________________\n",
            "embedding_1 (Embedding)      (None, 52, 100)           1949100   \n",
            "_________________________________________________________________\n",
            "simple_rnn_1 (SimpleRNN)     (None, 100)               20100     \n",
            "_________________________________________________________________\n",
            "dense_2 (Dense)              (None, 25)                2525      \n",
            "_________________________________________________________________\n",
            "dense_3 (Dense)              (None, 5)                 130       \n",
            "=================================================================\n",
            "Total params: 1,971,855\n",
            "Trainable params: 1,971,855\n",
            "Non-trainable params: 0\n",
            "_________________________________________________________________\n",
            "None\n"
          ],
          "name": "stdout"
        },
        {
          "output_type": "execute_result",
          "data": {
            "text/plain": [
              "<IPython.core.display.SVG object>"
            ],
            "image/svg+xml": "<svg height=\"449pt\" viewBox=\"0.00 0.00 183.00 337.00\" width=\"244pt\" xmlns=\"http://www.w3.org/2000/svg\" xmlns:xlink=\"http://www.w3.org/1999/xlink\">\n<g class=\"graph\" id=\"graph0\" transform=\"scale(1.3333 1.3333) rotate(0) translate(4 333)\">\n<title>G</title>\n<polygon fill=\"#ffffff\" points=\"-4,4 -4,-333 179,-333 179,4 -4,4\" stroke=\"transparent\"/>\n<!-- 139965586259600 -->\n<g class=\"node\" id=\"node1\">\n<title>139965586259600</title>\n<polygon fill=\"none\" points=\"5.5,-292.5 5.5,-328.5 169.5,-328.5 169.5,-292.5 5.5,-292.5\" stroke=\"#000000\"/>\n<text fill=\"#000000\" font-family=\"Times,serif\" font-size=\"14.00\" text-anchor=\"middle\" x=\"87.5\" y=\"-306.8\">review_input: InputLayer</text>\n</g>\n<!-- 139967358675152 -->\n<g class=\"node\" id=\"node2\">\n<title>139967358675152</title>\n<polygon fill=\"none\" points=\"2,-219.5 2,-255.5 173,-255.5 173,-219.5 2,-219.5\" stroke=\"#000000\"/>\n<text fill=\"#000000\" font-family=\"Times,serif\" font-size=\"14.00\" text-anchor=\"middle\" x=\"87.5\" y=\"-233.8\">embedding_1: Embedding</text>\n</g>\n<!-- 139965586259600&#45;&gt;139967358675152 -->\n<g class=\"edge\" id=\"edge1\">\n<title>139965586259600-&gt;139967358675152</title>\n<path d=\"M87.5,-292.4551C87.5,-284.3828 87.5,-274.6764 87.5,-265.6817\" fill=\"none\" stroke=\"#000000\"/>\n<polygon fill=\"#000000\" points=\"91.0001,-265.5903 87.5,-255.5904 84.0001,-265.5904 91.0001,-265.5903\" stroke=\"#000000\"/>\n</g>\n<!-- 139967359304592 -->\n<g class=\"node\" id=\"node3\">\n<title>139967359304592</title>\n<polygon fill=\"none\" points=\"0,-146.5 0,-182.5 175,-182.5 175,-146.5 0,-146.5\" stroke=\"#000000\"/>\n<text fill=\"#000000\" font-family=\"Times,serif\" font-size=\"14.00\" text-anchor=\"middle\" x=\"87.5\" y=\"-160.8\">simple_rnn_1: SimpleRNN</text>\n</g>\n<!-- 139967358675152&#45;&gt;139967359304592 -->\n<g class=\"edge\" id=\"edge2\">\n<title>139967358675152-&gt;139967359304592</title>\n<path d=\"M87.5,-219.4551C87.5,-211.3828 87.5,-201.6764 87.5,-192.6817\" fill=\"none\" stroke=\"#000000\"/>\n<polygon fill=\"#000000\" points=\"91.0001,-192.5903 87.5,-182.5904 84.0001,-192.5904 91.0001,-192.5903\" stroke=\"#000000\"/>\n</g>\n<!-- 139965586292240 -->\n<g class=\"node\" id=\"node4\">\n<title>139965586292240</title>\n<polygon fill=\"none\" points=\"34,-73.5 34,-109.5 141,-109.5 141,-73.5 34,-73.5\" stroke=\"#000000\"/>\n<text fill=\"#000000\" font-family=\"Times,serif\" font-size=\"14.00\" text-anchor=\"middle\" x=\"87.5\" y=\"-87.8\">dense_2: Dense</text>\n</g>\n<!-- 139967359304592&#45;&gt;139965586292240 -->\n<g class=\"edge\" id=\"edge3\">\n<title>139967359304592-&gt;139965586292240</title>\n<path d=\"M87.5,-146.4551C87.5,-138.3828 87.5,-128.6764 87.5,-119.6817\" fill=\"none\" stroke=\"#000000\"/>\n<polygon fill=\"#000000\" points=\"91.0001,-119.5903 87.5,-109.5904 84.0001,-119.5904 91.0001,-119.5903\" stroke=\"#000000\"/>\n</g>\n<!-- 139965586557840 -->\n<g class=\"node\" id=\"node5\">\n<title>139965586557840</title>\n<polygon fill=\"none\" points=\"34,-.5 34,-36.5 141,-36.5 141,-.5 34,-.5\" stroke=\"#000000\"/>\n<text fill=\"#000000\" font-family=\"Times,serif\" font-size=\"14.00\" text-anchor=\"middle\" x=\"87.5\" y=\"-14.8\">dense_3: Dense</text>\n</g>\n<!-- 139965586292240&#45;&gt;139965586557840 -->\n<g class=\"edge\" id=\"edge4\">\n<title>139965586292240-&gt;139965586557840</title>\n<path d=\"M87.5,-73.4551C87.5,-65.3828 87.5,-55.6764 87.5,-46.6817\" fill=\"none\" stroke=\"#000000\"/>\n<polygon fill=\"#000000\" points=\"91.0001,-46.5903 87.5,-36.5904 84.0001,-46.5904 91.0001,-46.5903\" stroke=\"#000000\"/>\n</g>\n</g>\n</svg>"
          },
          "metadata": {
            "tags": []
          },
          "execution_count": 56
        }
      ]
    },
    {
      "cell_type": "code",
      "metadata": {
        "id": "eOtYOqN6RSUe",
        "colab": {
          "base_uri": "https://localhost:8080/"
        },
        "outputId": "3f18e840-5662-4cf3-8676-875791825d48"
      },
      "source": [
        "sentiment_rnn.fit(X_training,Y_training,epochs= 5,batch_size=32,verbose=True,validation_data=(X_validating,Y_validating))"
      ],
      "execution_count": null,
      "outputs": [
        {
          "output_type": "stream",
          "text": [
            "Epoch 1/5\n",
            "1329/1329 [==============================] - 69s 51ms/step - loss: 1.1301 - acc: 0.6397 - val_loss: 1.0794 - val_acc: 0.6639\n",
            "Epoch 2/5\n",
            "1329/1329 [==============================] - 68s 51ms/step - loss: 1.0733 - acc: 0.6668 - val_loss: 1.0808 - val_acc: 0.6639\n",
            "Epoch 3/5\n",
            "1329/1329 [==============================] - 67s 50ms/step - loss: 1.0890 - acc: 0.6600 - val_loss: 1.0799 - val_acc: 0.6639\n",
            "Epoch 4/5\n",
            "1329/1329 [==============================] - 68s 51ms/step - loss: 1.0682 - acc: 0.6684 - val_loss: 1.0798 - val_acc: 0.6637\n",
            "Epoch 5/5\n",
            "1329/1329 [==============================] - 67s 51ms/step - loss: 1.0790 - acc: 0.6645 - val_loss: 1.0795 - val_acc: 0.6637\n"
          ],
          "name": "stdout"
        },
        {
          "output_type": "execute_result",
          "data": {
            "text/plain": [
              "<tensorflow.python.keras.callbacks.History at 0x7f4c472c8d10>"
            ]
          },
          "metadata": {
            "tags": []
          },
          "execution_count": 57
        }
      ]
    },
    {
      "cell_type": "code",
      "metadata": {
        "id": "5ne-YsmXRULU",
        "colab": {
          "base_uri": "https://localhost:8080/"
        },
        "outputId": "d670af1d-0784-4a34-abef-d3b05c05c8e0"
      },
      "source": [
        "test_loss, test_acc=sentiment_rnn.evaluate(test_X,test_y)\n",
        "pred_Y=sentiment_rnn.predict(test_X)\n",
        "print('Test Classification Report:')\n",
        "predictions=[]\n",
        "for i in range(len(pred_Y)):\n",
        "  predictions.append(np.argmax(pred_Y[i])+1)\n",
        "print(classification_report(test_data.ratings,predictions))"
      ],
      "execution_count": null,
      "outputs": [
        {
          "output_type": "stream",
          "text": [
            "313/313 [==============================] - 2s 5ms/step - loss: 1.2665 - acc: 0.5784\n",
            "Test Classification Report:\n",
            "              precision    recall  f1-score   support\n",
            "\n",
            "           1       0.00      0.00      0.00      1271\n",
            "           2       0.00      0.00      0.00       630\n",
            "           3       0.00      0.00      0.00       911\n",
            "           4       0.00      0.00      0.00      1404\n",
            "           5       0.58      1.00      0.73      5784\n",
            "\n",
            "    accuracy                           0.58     10000\n",
            "   macro avg       0.12      0.20      0.15     10000\n",
            "weighted avg       0.33      0.58      0.42     10000\n",
            "\n"
          ],
          "name": "stdout"
        },
        {
          "output_type": "stream",
          "text": [
            "/usr/local/lib/python3.7/dist-packages/sklearn/metrics/_classification.py:1272: UndefinedMetricWarning: Precision and F-score are ill-defined and being set to 0.0 in labels with no predicted samples. Use `zero_division` parameter to control this behavior.\n",
            "  _warn_prf(average, modifier, msg_start, len(result))\n"
          ],
          "name": "stderr"
        }
      ]
    },
    {
      "cell_type": "code",
      "metadata": {
        "id": "khPbIhqSGvQP",
        "colab": {
          "base_uri": "https://localhost:8080/",
          "height": 166
        },
        "outputId": "c76af246-e2d8-41a5-c5f4-e5546b19787c"
      },
      "source": [
        "confusion_matrix(test_data.ratings,predictions)"
      ],
      "execution_count": null,
      "outputs": [
        {
          "output_type": "error",
          "ename": "NameError",
          "evalue": "ignored",
          "traceback": [
            "\u001b[0;31m---------------------------------------------------------------------------\u001b[0m",
            "\u001b[0;31mNameError\u001b[0m                                 Traceback (most recent call last)",
            "\u001b[0;32m<ipython-input-59-03fe8b897fda>\u001b[0m in \u001b[0;36m<module>\u001b[0;34m()\u001b[0m\n\u001b[0;32m----> 1\u001b[0;31m \u001b[0mconfusion_matrix\u001b[0m\u001b[0;34m(\u001b[0m\u001b[0mtest_data\u001b[0m\u001b[0;34m.\u001b[0m\u001b[0mratings\u001b[0m\u001b[0;34m,\u001b[0m\u001b[0mpredictions\u001b[0m\u001b[0;34m)\u001b[0m\u001b[0;34m\u001b[0m\u001b[0;34m\u001b[0m\u001b[0m\n\u001b[0m",
            "\u001b[0;31mNameError\u001b[0m: name 'confusion_matrix' is not defined"
          ]
        }
      ]
    },
    {
      "cell_type": "markdown",
      "metadata": {
        "id": "8ZiqgsUeThie"
      },
      "source": [
        "#Using LSTMs"
      ]
    },
    {
      "cell_type": "code",
      "metadata": {
        "id": "gasmw43elI2I",
        "colab": {
          "base_uri": "https://localhost:8080/",
          "height": 949
        },
        "outputId": "1ae05405-60c2-4228-a5a5-b8c44dd8a841"
      },
      "source": [
        "# Add sequential model\n",
        "sentiment_lstm = Sequential()\n",
        "# Add embedding layer \n",
        "#No of output dimenstions is 100 as we embedded with Glove 100d\n",
        "Embed_Layer = Embedding(vocab_size,100, input_length=(MAX_SEQUENCE_LENGTH,), trainable=True)\n",
        "#define Inputs\n",
        "review_input = Input(shape=(MAX_SEQUENCE_LENGTH,),dtype= 'int32',name = 'review_input')\n",
        "review_embedding = Embed_Layer(review_input)\n",
        "Lstm_Layer = LSTM(100)\n",
        "Lstm = Lstm_Layer(review_embedding)\n",
        "output_size = 5\n",
        "dense1= Dense(25,activation='sigmoid')(Lstm)\n",
        "predict = Dense(5,activation='softmax')(dense1)\n",
        "\n",
        "sentiment_lstm = Model(inputs=[review_input],outputs=[predict])\n",
        "sentiment_lstm.compile(optimizer='adam',loss='categorical_crossentropy',metrics=['acc'])\n",
        "print(sentiment_lstm.summary())\n",
        "SVG(model_to_dot(sentiment_lstm).create(prog='dot', format='svg'))"
      ],
      "execution_count": null,
      "outputs": [
        {
          "output_type": "stream",
          "text": [
            "Model: \"model_2\"\n",
            "_________________________________________________________________\n",
            "Layer (type)                 Output Shape              Param #   \n",
            "=================================================================\n",
            "review_input (InputLayer)    [(None, 52)]              0         \n",
            "_________________________________________________________________\n",
            "embedding_2 (Embedding)      (None, 52, 100)           1949100   \n",
            "_________________________________________________________________\n",
            "lstm (LSTM)                  (None, 100)               80400     \n",
            "_________________________________________________________________\n",
            "dense_4 (Dense)              (None, 25)                2525      \n",
            "_________________________________________________________________\n",
            "dense_5 (Dense)              (None, 5)                 130       \n",
            "=================================================================\n",
            "Total params: 2,032,155\n",
            "Trainable params: 2,032,155\n",
            "Non-trainable params: 0\n",
            "_________________________________________________________________\n",
            "None\n"
          ],
          "name": "stdout"
        },
        {
          "output_type": "execute_result",
          "data": {
            "text/plain": [
              "<IPython.core.display.SVG object>"
            ],
            "image/svg+xml": "<svg height=\"449pt\" viewBox=\"0.00 0.00 179.00 337.00\" width=\"239pt\" xmlns=\"http://www.w3.org/2000/svg\" xmlns:xlink=\"http://www.w3.org/1999/xlink\">\n<g class=\"graph\" id=\"graph0\" transform=\"scale(1.3333 1.3333) rotate(0) translate(4 333)\">\n<title>G</title>\n<polygon fill=\"#ffffff\" points=\"-4,4 -4,-333 175,-333 175,4 -4,4\" stroke=\"transparent\"/>\n<!-- 139967334125456 -->\n<g class=\"node\" id=\"node1\">\n<title>139967334125456</title>\n<polygon fill=\"none\" points=\"3.5,-292.5 3.5,-328.5 167.5,-328.5 167.5,-292.5 3.5,-292.5\" stroke=\"#000000\"/>\n<text fill=\"#000000\" font-family=\"Times,serif\" font-size=\"14.00\" text-anchor=\"middle\" x=\"85.5\" y=\"-306.8\">review_input: InputLayer</text>\n</g>\n<!-- 139967336219920 -->\n<g class=\"node\" id=\"node2\">\n<title>139967336219920</title>\n<polygon fill=\"none\" points=\"0,-219.5 0,-255.5 171,-255.5 171,-219.5 0,-219.5\" stroke=\"#000000\"/>\n<text fill=\"#000000\" font-family=\"Times,serif\" font-size=\"14.00\" text-anchor=\"middle\" x=\"85.5\" y=\"-233.8\">embedding_2: Embedding</text>\n</g>\n<!-- 139967334125456&#45;&gt;139967336219920 -->\n<g class=\"edge\" id=\"edge1\">\n<title>139967334125456-&gt;139967336219920</title>\n<path d=\"M85.5,-292.4551C85.5,-284.3828 85.5,-274.6764 85.5,-265.6817\" fill=\"none\" stroke=\"#000000\"/>\n<polygon fill=\"#000000\" points=\"89.0001,-265.5903 85.5,-255.5904 82.0001,-265.5904 89.0001,-265.5903\" stroke=\"#000000\"/>\n</g>\n<!-- 139968397327888 -->\n<g class=\"node\" id=\"node3\">\n<title>139968397327888</title>\n<polygon fill=\"none\" points=\"42,-146.5 42,-182.5 129,-182.5 129,-146.5 42,-146.5\" stroke=\"#000000\"/>\n<text fill=\"#000000\" font-family=\"Times,serif\" font-size=\"14.00\" text-anchor=\"middle\" x=\"85.5\" y=\"-160.8\">lstm: LSTM</text>\n</g>\n<!-- 139967336219920&#45;&gt;139968397327888 -->\n<g class=\"edge\" id=\"edge2\">\n<title>139967336219920-&gt;139968397327888</title>\n<path d=\"M85.5,-219.4551C85.5,-211.3828 85.5,-201.6764 85.5,-192.6817\" fill=\"none\" stroke=\"#000000\"/>\n<polygon fill=\"#000000\" points=\"89.0001,-192.5903 85.5,-182.5904 82.0001,-192.5904 89.0001,-192.5903\" stroke=\"#000000\"/>\n</g>\n<!-- 139965586837712 -->\n<g class=\"node\" id=\"node4\">\n<title>139965586837712</title>\n<polygon fill=\"none\" points=\"32,-73.5 32,-109.5 139,-109.5 139,-73.5 32,-73.5\" stroke=\"#000000\"/>\n<text fill=\"#000000\" font-family=\"Times,serif\" font-size=\"14.00\" text-anchor=\"middle\" x=\"85.5\" y=\"-87.8\">dense_4: Dense</text>\n</g>\n<!-- 139968397327888&#45;&gt;139965586837712 -->\n<g class=\"edge\" id=\"edge3\">\n<title>139968397327888-&gt;139965586837712</title>\n<path d=\"M85.5,-146.4551C85.5,-138.3828 85.5,-128.6764 85.5,-119.6817\" fill=\"none\" stroke=\"#000000\"/>\n<polygon fill=\"#000000\" points=\"89.0001,-119.5903 85.5,-109.5904 82.0001,-119.5904 89.0001,-119.5903\" stroke=\"#000000\"/>\n</g>\n<!-- 139967356000464 -->\n<g class=\"node\" id=\"node5\">\n<title>139967356000464</title>\n<polygon fill=\"none\" points=\"32,-.5 32,-36.5 139,-36.5 139,-.5 32,-.5\" stroke=\"#000000\"/>\n<text fill=\"#000000\" font-family=\"Times,serif\" font-size=\"14.00\" text-anchor=\"middle\" x=\"85.5\" y=\"-14.8\">dense_5: Dense</text>\n</g>\n<!-- 139965586837712&#45;&gt;139967356000464 -->\n<g class=\"edge\" id=\"edge4\">\n<title>139965586837712-&gt;139967356000464</title>\n<path d=\"M85.5,-73.4551C85.5,-65.3828 85.5,-55.6764 85.5,-46.6817\" fill=\"none\" stroke=\"#000000\"/>\n<polygon fill=\"#000000\" points=\"89.0001,-46.5903 85.5,-36.5904 82.0001,-46.5904 89.0001,-46.5903\" stroke=\"#000000\"/>\n</g>\n</g>\n</svg>"
          },
          "metadata": {
            "tags": []
          },
          "execution_count": 60
        }
      ]
    },
    {
      "cell_type": "code",
      "metadata": {
        "id": "nrsEHHeslYw7",
        "colab": {
          "base_uri": "https://localhost:8080/"
        },
        "outputId": "863beeb2-d4dd-452e-cec0-82c86956d407"
      },
      "source": [
        "sentiment_lstm.fit(X_training,Y_training,epochs= 5,batch_size=32,verbose=True,validation_data=(X_validating,Y_validating))"
      ],
      "execution_count": null,
      "outputs": [
        {
          "output_type": "stream",
          "text": [
            "Epoch 1/5\n",
            "1329/1329 [==============================] - 56s 21ms/step - loss: 1.1673 - acc: 0.6229 - val_loss: 1.0788 - val_acc: 0.6639\n",
            "Epoch 2/5\n",
            "1329/1329 [==============================] - 27s 20ms/step - loss: 1.0720 - acc: 0.6674 - val_loss: 1.0789 - val_acc: 0.6639\n",
            "Epoch 3/5\n",
            "1329/1329 [==============================] - 27s 21ms/step - loss: 1.0880 - acc: 0.6599 - val_loss: 1.0792 - val_acc: 0.6639\n",
            "Epoch 4/5\n",
            "1329/1329 [==============================] - 27s 20ms/step - loss: 1.0901 - acc: 0.6585 - val_loss: 1.0791 - val_acc: 0.6639\n",
            "Epoch 5/5\n",
            "1329/1329 [==============================] - 27s 20ms/step - loss: 1.0863 - acc: 0.6599 - val_loss: 1.0790 - val_acc: 0.6639\n"
          ],
          "name": "stdout"
        },
        {
          "output_type": "execute_result",
          "data": {
            "text/plain": [
              "<tensorflow.python.keras.callbacks.History at 0x7f4caf5c6410>"
            ]
          },
          "metadata": {
            "tags": []
          },
          "execution_count": 61
        }
      ]
    },
    {
      "cell_type": "code",
      "metadata": {
        "id": "JE-lWL1Glg38",
        "colab": {
          "base_uri": "https://localhost:8080/"
        },
        "outputId": "3ad222a5-137c-4a23-ed54-0603a65a24aa"
      },
      "source": [
        "test_loss, test_acc=sentiment_lstm.evaluate(test_X,test_y)\n",
        "pred_Y=sentiment_lstm.predict(test_X)\n",
        "print('Test Classification Report:')\n",
        "predictions=[]\n",
        "for i in range(len(pred_Y)):\n",
        "  predictions.append(np.argmax(pred_Y[i])+1)\n",
        "print(classification_report(test_data.ratings,predictions))"
      ],
      "execution_count": null,
      "outputs": [
        {
          "output_type": "stream",
          "text": [
            "313/313 [==============================] - 1s 3ms/step - loss: 1.2687 - acc: 0.5784\n",
            "Test Classification Report:\n",
            "              precision    recall  f1-score   support\n",
            "\n",
            "           1       0.00      0.00      0.00      1271\n",
            "           2       0.00      0.00      0.00       630\n",
            "           3       0.00      0.00      0.00       911\n",
            "           4       0.00      0.00      0.00      1404\n",
            "           5       0.58      1.00      0.73      5784\n",
            "\n",
            "    accuracy                           0.58     10000\n",
            "   macro avg       0.12      0.20      0.15     10000\n",
            "weighted avg       0.33      0.58      0.42     10000\n",
            "\n"
          ],
          "name": "stdout"
        },
        {
          "output_type": "stream",
          "text": [
            "/usr/local/lib/python3.7/dist-packages/sklearn/metrics/_classification.py:1272: UndefinedMetricWarning: Precision and F-score are ill-defined and being set to 0.0 in labels with no predicted samples. Use `zero_division` parameter to control this behavior.\n",
            "  _warn_prf(average, modifier, msg_start, len(result))\n"
          ],
          "name": "stderr"
        }
      ]
    },
    {
      "cell_type": "markdown",
      "metadata": {
        "id": "ueSSPLxmTkWO"
      },
      "source": [
        "#Using Bi-LSTMs"
      ]
    },
    {
      "cell_type": "code",
      "metadata": {
        "id": "tamNicZYm3Cp",
        "colab": {
          "base_uri": "https://localhost:8080/",
          "height": 949
        },
        "outputId": "020f982b-9c58-4ba8-e3e4-392cda0b3332"
      },
      "source": [
        "# Add sequential model\n",
        "sentiment_bilstm = Sequential()\n",
        "# Add embedding layer \n",
        "#No of output dimenstions is 100 as we embedded with Glove 100d\n",
        "Embed_Layer = Embedding(vocab_size, 100, input_length=(MAX_SEQUENCE_LENGTH,), trainable=True)\n",
        "#define Inputs\n",
        "review_input = Input(shape=(MAX_SEQUENCE_LENGTH,),dtype= 'int32',name = 'review_input')\n",
        "review_embedding = Embed_Layer(review_input)\n",
        "Lstm_Layer = Bidirectional(LSTM(100))\n",
        "Lstm = Lstm_Layer(review_embedding)\n",
        "output_size = 5\n",
        "dense1= Dense(25,activation='sigmoid')(Lstm)\n",
        "predict = Dense(5,activation='softmax')(dense1)\n",
        "\n",
        "sentiment_bilstm= Model(inputs=[review_input],outputs=[predict])\n",
        "sentiment_bilstm.compile(optimizer='adam',loss='categorical_crossentropy',metrics=['acc'])\n",
        "print(sentiment_bilstm.summary())\n",
        "SVG(model_to_dot(sentiment_bilstm).create(prog='dot', format='svg'))"
      ],
      "execution_count": null,
      "outputs": [
        {
          "output_type": "stream",
          "text": [
            "Model: \"model_3\"\n",
            "_________________________________________________________________\n",
            "Layer (type)                 Output Shape              Param #   \n",
            "=================================================================\n",
            "review_input (InputLayer)    [(None, 52)]              0         \n",
            "_________________________________________________________________\n",
            "embedding_3 (Embedding)      (None, 52, 100)           1949100   \n",
            "_________________________________________________________________\n",
            "bidirectional (Bidirectional (None, 200)               160800    \n",
            "_________________________________________________________________\n",
            "dense_6 (Dense)              (None, 25)                5025      \n",
            "_________________________________________________________________\n",
            "dense_7 (Dense)              (None, 5)                 130       \n",
            "=================================================================\n",
            "Total params: 2,115,055\n",
            "Trainable params: 2,115,055\n",
            "Non-trainable params: 0\n",
            "_________________________________________________________________\n",
            "None\n"
          ],
          "name": "stdout"
        },
        {
          "output_type": "execute_result",
          "data": {
            "text/plain": [
              "<IPython.core.display.SVG object>"
            ],
            "image/svg+xml": "<svg height=\"449pt\" viewBox=\"0.00 0.00 273.00 337.00\" width=\"364pt\" xmlns=\"http://www.w3.org/2000/svg\" xmlns:xlink=\"http://www.w3.org/1999/xlink\">\n<g class=\"graph\" id=\"graph0\" transform=\"scale(1.3333 1.3333) rotate(0) translate(4 333)\">\n<title>G</title>\n<polygon fill=\"#ffffff\" points=\"-4,4 -4,-333 269,-333 269,4 -4,4\" stroke=\"transparent\"/>\n<!-- 139967343995920 -->\n<g class=\"node\" id=\"node1\">\n<title>139967343995920</title>\n<polygon fill=\"none\" points=\"50.5,-292.5 50.5,-328.5 214.5,-328.5 214.5,-292.5 50.5,-292.5\" stroke=\"#000000\"/>\n<text fill=\"#000000\" font-family=\"Times,serif\" font-size=\"14.00\" text-anchor=\"middle\" x=\"132.5\" y=\"-306.8\">review_input: InputLayer</text>\n</g>\n<!-- 139967343995792 -->\n<g class=\"node\" id=\"node2\">\n<title>139967343995792</title>\n<polygon fill=\"none\" points=\"47,-219.5 47,-255.5 218,-255.5 218,-219.5 47,-219.5\" stroke=\"#000000\"/>\n<text fill=\"#000000\" font-family=\"Times,serif\" font-size=\"14.00\" text-anchor=\"middle\" x=\"132.5\" y=\"-233.8\">embedding_3: Embedding</text>\n</g>\n<!-- 139967343995920&#45;&gt;139967343995792 -->\n<g class=\"edge\" id=\"edge1\">\n<title>139967343995920-&gt;139967343995792</title>\n<path d=\"M132.5,-292.4551C132.5,-284.3828 132.5,-274.6764 132.5,-265.6817\" fill=\"none\" stroke=\"#000000\"/>\n<polygon fill=\"#000000\" points=\"136.0001,-265.5903 132.5,-255.5904 129.0001,-265.5904 136.0001,-265.5903\" stroke=\"#000000\"/>\n</g>\n<!-- 139967341665424 -->\n<g class=\"node\" id=\"node3\">\n<title>139967341665424</title>\n<polygon fill=\"none\" points=\"0,-146.5 0,-182.5 265,-182.5 265,-146.5 0,-146.5\" stroke=\"#000000\"/>\n<text fill=\"#000000\" font-family=\"Times,serif\" font-size=\"14.00\" text-anchor=\"middle\" x=\"132.5\" y=\"-160.8\">bidirectional(lstm_1): Bidirectional(LSTM)</text>\n</g>\n<!-- 139967343995792&#45;&gt;139967341665424 -->\n<g class=\"edge\" id=\"edge2\">\n<title>139967343995792-&gt;139967341665424</title>\n<path d=\"M132.5,-219.4551C132.5,-211.3828 132.5,-201.6764 132.5,-192.6817\" fill=\"none\" stroke=\"#000000\"/>\n<polygon fill=\"#000000\" points=\"136.0001,-192.5903 132.5,-182.5904 129.0001,-192.5904 136.0001,-192.5903\" stroke=\"#000000\"/>\n</g>\n<!-- 139967339713872 -->\n<g class=\"node\" id=\"node4\">\n<title>139967339713872</title>\n<polygon fill=\"none\" points=\"79,-73.5 79,-109.5 186,-109.5 186,-73.5 79,-73.5\" stroke=\"#000000\"/>\n<text fill=\"#000000\" font-family=\"Times,serif\" font-size=\"14.00\" text-anchor=\"middle\" x=\"132.5\" y=\"-87.8\">dense_6: Dense</text>\n</g>\n<!-- 139967341665424&#45;&gt;139967339713872 -->\n<g class=\"edge\" id=\"edge3\">\n<title>139967341665424-&gt;139967339713872</title>\n<path d=\"M132.5,-146.4551C132.5,-138.3828 132.5,-128.6764 132.5,-119.6817\" fill=\"none\" stroke=\"#000000\"/>\n<polygon fill=\"#000000\" points=\"136.0001,-119.5903 132.5,-109.5904 129.0001,-119.5904 136.0001,-119.5903\" stroke=\"#000000\"/>\n</g>\n<!-- 139967338731408 -->\n<g class=\"node\" id=\"node5\">\n<title>139967338731408</title>\n<polygon fill=\"none\" points=\"79,-.5 79,-36.5 186,-36.5 186,-.5 79,-.5\" stroke=\"#000000\"/>\n<text fill=\"#000000\" font-family=\"Times,serif\" font-size=\"14.00\" text-anchor=\"middle\" x=\"132.5\" y=\"-14.8\">dense_7: Dense</text>\n</g>\n<!-- 139967339713872&#45;&gt;139967338731408 -->\n<g class=\"edge\" id=\"edge4\">\n<title>139967339713872-&gt;139967338731408</title>\n<path d=\"M132.5,-73.4551C132.5,-65.3828 132.5,-55.6764 132.5,-46.6817\" fill=\"none\" stroke=\"#000000\"/>\n<polygon fill=\"#000000\" points=\"136.0001,-46.5903 132.5,-36.5904 129.0001,-46.5904 136.0001,-46.5903\" stroke=\"#000000\"/>\n</g>\n</g>\n</svg>"
          },
          "metadata": {
            "tags": []
          },
          "execution_count": 63
        }
      ]
    },
    {
      "cell_type": "code",
      "metadata": {
        "id": "r5QgYqtonELW",
        "colab": {
          "base_uri": "https://localhost:8080/"
        },
        "outputId": "55e5e0e1-6673-4a16-90cd-0f659c34691a"
      },
      "source": [
        "sentiment_bilstm.fit(X_training,Y_training,epochs= 5,batch_size=32,verbose=True,validation_data=(X_validating,Y_validating))"
      ],
      "execution_count": null,
      "outputs": [
        {
          "output_type": "stream",
          "text": [
            "Epoch 1/5\n",
            "1329/1329 [==============================] - 34s 24ms/step - loss: 1.0178 - acc: 0.6477 - val_loss: 0.7189 - val_acc: 0.7380\n",
            "Epoch 2/5\n",
            "1329/1329 [==============================] - 31s 23ms/step - loss: 0.6591 - acc: 0.7520 - val_loss: 0.6791 - val_acc: 0.7496\n",
            "Epoch 3/5\n",
            "1329/1329 [==============================] - 30s 23ms/step - loss: 0.5551 - acc: 0.7909 - val_loss: 0.6885 - val_acc: 0.7519\n",
            "Epoch 4/5\n",
            "1329/1329 [==============================] - 30s 23ms/step - loss: 0.4891 - acc: 0.8196 - val_loss: 0.6935 - val_acc: 0.7471\n",
            "Epoch 5/5\n",
            "1329/1329 [==============================] - 31s 23ms/step - loss: 0.4208 - acc: 0.8481 - val_loss: 0.7430 - val_acc: 0.7479\n"
          ],
          "name": "stdout"
        },
        {
          "output_type": "execute_result",
          "data": {
            "text/plain": [
              "<tensorflow.python.keras.callbacks.History at 0x7f4caf75e250>"
            ]
          },
          "metadata": {
            "tags": []
          },
          "execution_count": 64
        }
      ]
    },
    {
      "cell_type": "code",
      "metadata": {
        "id": "5pk6YWaSnJpE",
        "colab": {
          "base_uri": "https://localhost:8080/"
        },
        "outputId": "ba8eb18e-452b-41af-a15d-3ff876411e57"
      },
      "source": [
        "test_loss, test_acc=sentiment_bilstm.evaluate(test_X,test_y)\n",
        "pred_Y=sentiment_bilstm.predict(test_X)\n",
        "print('Test Classification Report:')\n",
        "predictions=[]\n",
        "for i in range(len(pred_Y)):\n",
        "  predictions.append(np.argmax(pred_Y[i])+1)\n",
        "print(classification_report(test_data.ratings,predictions))"
      ],
      "execution_count": null,
      "outputs": [
        {
          "output_type": "stream",
          "text": [
            "313/313 [==============================] - 1s 4ms/step - loss: 0.9309 - acc: 0.6832\n",
            "Test Classification Report:\n",
            "              precision    recall  f1-score   support\n",
            "\n",
            "           1       0.71      0.58      0.64      1271\n",
            "           2       0.25      0.23      0.24       630\n",
            "           3       0.35      0.39      0.37       911\n",
            "           4       0.37      0.25      0.30      1404\n",
            "           5       0.81      0.91      0.86      5784\n",
            "\n",
            "    accuracy                           0.68     10000\n",
            "   macro avg       0.50      0.47      0.48     10000\n",
            "weighted avg       0.66      0.68      0.67     10000\n",
            "\n"
          ],
          "name": "stdout"
        }
      ]
    },
    {
      "cell_type": "markdown",
      "metadata": {
        "id": "L5g1aqSPTn8G"
      },
      "source": [
        "#Using GRUs"
      ]
    },
    {
      "cell_type": "code",
      "metadata": {
        "id": "3iiS9oOZnTqX",
        "colab": {
          "base_uri": "https://localhost:8080/",
          "height": 949
        },
        "outputId": "6d552dec-52bf-4906-bfa4-8a22480c2226"
      },
      "source": [
        "# Add sequential model\n",
        "sentiment_gru = Sequential()\n",
        "# Add embedding layer \n",
        "#No of output dimenstions is 100 as we embedded with Glove 100d\n",
        "Embed_Layer = Embedding(vocab_size, 64, input_length=(MAX_SEQUENCE_LENGTH,), trainable=True)\n",
        "#define Inputs\n",
        "review_input = Input(shape=(MAX_SEQUENCE_LENGTH,),dtype= 'int32',name = 'review_input')\n",
        "review_embedding = Embed_Layer(review_input)\n",
        "Gru_Layer = GRU(64)\n",
        "Gru = Gru_Layer(review_embedding)\n",
        "output_size = 5\n",
        "dense1= Dense(25,activation='sigmoid')(Gru)\n",
        "predict = Dense(5,activation='softmax')(dense1)\n",
        "\n",
        "sentiment_gru = Model(inputs=[review_input],outputs=[predict])\n",
        "sentiment_gru.compile(optimizer='adam',loss='categorical_crossentropy',metrics=['acc'])\n",
        "print(sentiment_gru.summary())\n",
        "SVG(model_to_dot(sentiment_gru).create(prog='dot', format='svg'))"
      ],
      "execution_count": null,
      "outputs": [
        {
          "output_type": "stream",
          "text": [
            "Model: \"model_4\"\n",
            "_________________________________________________________________\n",
            "Layer (type)                 Output Shape              Param #   \n",
            "=================================================================\n",
            "review_input (InputLayer)    [(None, 52)]              0         \n",
            "_________________________________________________________________\n",
            "embedding_4 (Embedding)      (None, 52, 64)            1247424   \n",
            "_________________________________________________________________\n",
            "gru (GRU)                    (None, 64)                24960     \n",
            "_________________________________________________________________\n",
            "dense_8 (Dense)              (None, 25)                1625      \n",
            "_________________________________________________________________\n",
            "dense_9 (Dense)              (None, 5)                 130       \n",
            "=================================================================\n",
            "Total params: 1,274,139\n",
            "Trainable params: 1,274,139\n",
            "Non-trainable params: 0\n",
            "_________________________________________________________________\n",
            "None\n"
          ],
          "name": "stdout"
        },
        {
          "output_type": "execute_result",
          "data": {
            "text/plain": [
              "<IPython.core.display.SVG object>"
            ],
            "image/svg+xml": "<svg height=\"449pt\" viewBox=\"0.00 0.00 179.00 337.00\" width=\"239pt\" xmlns=\"http://www.w3.org/2000/svg\" xmlns:xlink=\"http://www.w3.org/1999/xlink\">\n<g class=\"graph\" id=\"graph0\" transform=\"scale(1.3333 1.3333) rotate(0) translate(4 333)\">\n<title>G</title>\n<polygon fill=\"#ffffff\" points=\"-4,4 -4,-333 175,-333 175,4 -4,4\" stroke=\"transparent\"/>\n<!-- 139967352303312 -->\n<g class=\"node\" id=\"node1\">\n<title>139967352303312</title>\n<polygon fill=\"none\" points=\"3.5,-292.5 3.5,-328.5 167.5,-328.5 167.5,-292.5 3.5,-292.5\" stroke=\"#000000\"/>\n<text fill=\"#000000\" font-family=\"Times,serif\" font-size=\"14.00\" text-anchor=\"middle\" x=\"85.5\" y=\"-306.8\">review_input: InputLayer</text>\n</g>\n<!-- 139967352303504 -->\n<g class=\"node\" id=\"node2\">\n<title>139967352303504</title>\n<polygon fill=\"none\" points=\"0,-219.5 0,-255.5 171,-255.5 171,-219.5 0,-219.5\" stroke=\"#000000\"/>\n<text fill=\"#000000\" font-family=\"Times,serif\" font-size=\"14.00\" text-anchor=\"middle\" x=\"85.5\" y=\"-233.8\">embedding_4: Embedding</text>\n</g>\n<!-- 139967352303312&#45;&gt;139967352303504 -->\n<g class=\"edge\" id=\"edge1\">\n<title>139967352303312-&gt;139967352303504</title>\n<path d=\"M85.5,-292.4551C85.5,-284.3828 85.5,-274.6764 85.5,-265.6817\" fill=\"none\" stroke=\"#000000\"/>\n<polygon fill=\"#000000\" points=\"89.0001,-265.5903 85.5,-255.5904 82.0001,-265.5904 89.0001,-265.5903\" stroke=\"#000000\"/>\n</g>\n<!-- 139967343995152 -->\n<g class=\"node\" id=\"node3\">\n<title>139967343995152</title>\n<polygon fill=\"none\" points=\"48.5,-146.5 48.5,-182.5 122.5,-182.5 122.5,-146.5 48.5,-146.5\" stroke=\"#000000\"/>\n<text fill=\"#000000\" font-family=\"Times,serif\" font-size=\"14.00\" text-anchor=\"middle\" x=\"85.5\" y=\"-160.8\">gru: GRU</text>\n</g>\n<!-- 139967352303504&#45;&gt;139967343995152 -->\n<g class=\"edge\" id=\"edge2\">\n<title>139967352303504-&gt;139967343995152</title>\n<path d=\"M85.5,-219.4551C85.5,-211.3828 85.5,-201.6764 85.5,-192.6817\" fill=\"none\" stroke=\"#000000\"/>\n<polygon fill=\"#000000\" points=\"89.0001,-192.5903 85.5,-182.5904 82.0001,-192.5904 89.0001,-192.5903\" stroke=\"#000000\"/>\n</g>\n<!-- 139967344009808 -->\n<g class=\"node\" id=\"node4\">\n<title>139967344009808</title>\n<polygon fill=\"none\" points=\"32,-73.5 32,-109.5 139,-109.5 139,-73.5 32,-73.5\" stroke=\"#000000\"/>\n<text fill=\"#000000\" font-family=\"Times,serif\" font-size=\"14.00\" text-anchor=\"middle\" x=\"85.5\" y=\"-87.8\">dense_8: Dense</text>\n</g>\n<!-- 139967343995152&#45;&gt;139967344009808 -->\n<g class=\"edge\" id=\"edge3\">\n<title>139967343995152-&gt;139967344009808</title>\n<path d=\"M85.5,-146.4551C85.5,-138.3828 85.5,-128.6764 85.5,-119.6817\" fill=\"none\" stroke=\"#000000\"/>\n<polygon fill=\"#000000\" points=\"89.0001,-119.5903 85.5,-109.5904 82.0001,-119.5904 89.0001,-119.5903\" stroke=\"#000000\"/>\n</g>\n<!-- 139965376250320 -->\n<g class=\"node\" id=\"node5\">\n<title>139965376250320</title>\n<polygon fill=\"none\" points=\"32,-.5 32,-36.5 139,-36.5 139,-.5 32,-.5\" stroke=\"#000000\"/>\n<text fill=\"#000000\" font-family=\"Times,serif\" font-size=\"14.00\" text-anchor=\"middle\" x=\"85.5\" y=\"-14.8\">dense_9: Dense</text>\n</g>\n<!-- 139967344009808&#45;&gt;139965376250320 -->\n<g class=\"edge\" id=\"edge4\">\n<title>139967344009808-&gt;139965376250320</title>\n<path d=\"M85.5,-73.4551C85.5,-65.3828 85.5,-55.6764 85.5,-46.6817\" fill=\"none\" stroke=\"#000000\"/>\n<polygon fill=\"#000000\" points=\"89.0001,-46.5903 85.5,-36.5904 82.0001,-46.5904 89.0001,-46.5903\" stroke=\"#000000\"/>\n</g>\n</g>\n</svg>"
          },
          "metadata": {
            "tags": []
          },
          "execution_count": 66
        }
      ]
    },
    {
      "cell_type": "code",
      "metadata": {
        "id": "e78rqz0DnrCP",
        "colab": {
          "base_uri": "https://localhost:8080/"
        },
        "outputId": "748deb66-2cfb-4196-967d-41cb860803e7"
      },
      "source": [
        "sentiment_gru.fit(X_training,Y_training,epochs= 5,batch_size=32,verbose=True,validation_data=(X_validating,Y_validating))"
      ],
      "execution_count": null,
      "outputs": [
        {
          "output_type": "stream",
          "text": [
            "Epoch 1/5\n",
            "1329/1329 [==============================] - 19s 13ms/step - loss: 1.0331 - acc: 0.6673 - val_loss: 0.7611 - val_acc: 0.7143\n",
            "Epoch 2/5\n",
            "1329/1329 [==============================] - 18s 13ms/step - loss: 0.6922 - acc: 0.7379 - val_loss: 0.6853 - val_acc: 0.7467\n",
            "Epoch 3/5\n",
            "1329/1329 [==============================] - 18s 13ms/step - loss: 0.5719 - acc: 0.7831 - val_loss: 0.6941 - val_acc: 0.7484\n",
            "Epoch 4/5\n",
            "1329/1329 [==============================] - 17s 13ms/step - loss: 0.4957 - acc: 0.8170 - val_loss: 0.7295 - val_acc: 0.7393\n",
            "Epoch 5/5\n",
            "1329/1329 [==============================] - 18s 13ms/step - loss: 0.4351 - acc: 0.8443 - val_loss: 0.7426 - val_acc: 0.7343\n"
          ],
          "name": "stdout"
        },
        {
          "output_type": "execute_result",
          "data": {
            "text/plain": [
              "<tensorflow.python.keras.callbacks.History at 0x7f4c3a89c910>"
            ]
          },
          "metadata": {
            "tags": []
          },
          "execution_count": 67
        }
      ]
    },
    {
      "cell_type": "code",
      "metadata": {
        "id": "l3GtwG5bnt0Q",
        "colab": {
          "base_uri": "https://localhost:8080/"
        },
        "outputId": "79a6a62a-d81f-4162-d79d-8aa185e2f3ea"
      },
      "source": [
        "test_loss, test_acc=sentiment_gru.evaluate(test_X,test_y)\n",
        "pred_Y=sentiment_gru.predict(test_X)\n",
        "print('Test Classification Report:')\n",
        "predictions=[]\n",
        "for i in range(len(pred_Y)):\n",
        "  predictions.append(np.argmax(pred_Y[i])+1)\n",
        "print(classification_report(test_data.ratings,predictions))"
      ],
      "execution_count": null,
      "outputs": [
        {
          "output_type": "stream",
          "text": [
            "313/313 [==============================] - 1s 3ms/step - loss: 0.9150 - acc: 0.6743\n",
            "Test Classification Report:\n",
            "              precision    recall  f1-score   support\n",
            "\n",
            "           1       0.69      0.59      0.63      1271\n",
            "           2       0.25      0.19      0.22       630\n",
            "           3       0.35      0.38      0.37       911\n",
            "           4       0.34      0.28      0.31      1404\n",
            "           5       0.82      0.89      0.85      5784\n",
            "\n",
            "    accuracy                           0.67     10000\n",
            "   macro avg       0.49      0.47      0.48     10000\n",
            "weighted avg       0.66      0.67      0.66     10000\n",
            "\n"
          ],
          "name": "stdout"
        }
      ]
    },
    {
      "cell_type": "markdown",
      "metadata": {
        "id": "aVyfgdQmTqeW"
      },
      "source": [
        "#Using Bi-GRUs"
      ]
    },
    {
      "cell_type": "code",
      "metadata": {
        "id": "ybBcA8md8bbB",
        "colab": {
          "base_uri": "https://localhost:8080/",
          "height": 949
        },
        "outputId": "dfa62d24-2fcc-46ee-956e-9caeeb37adf8"
      },
      "source": [
        "# Add sequential model\n",
        "sentiment_bigru = Sequential()\n",
        "# Add embedding layer \n",
        "#No of output dimenstions is 100 as we embedded with Glove 100d\n",
        "Embed_Layer = Embedding(vocab_size, 100,input_length=(MAX_SEQUENCE_LENGTH,), trainable=True)\n",
        "#define Inputs\n",
        "review_input = Input(shape=(MAX_SEQUENCE_LENGTH,),dtype= 'int32',name = 'review_input')\n",
        "review_embedding = Embed_Layer(review_input)\n",
        "Gru_Layer = Bidirectional(GRU(100))\n",
        "Gru = Gru_Layer(review_embedding)\n",
        "output_size = 5\n",
        "dense1= Dense(25,activation='sigmoid')(Gru)\n",
        "predict = Dense(5,activation='softmax')(dense1)\n",
        "\n",
        "sentiment_bigru= Model(inputs=[review_input],outputs=[predict])\n",
        "sentiment_bigru.compile(optimizer='adam',loss='categorical_crossentropy',metrics=['acc'])\n",
        "print(sentiment_bigru.summary())\n",
        "SVG(model_to_dot(sentiment_bigru).create(prog='dot', format='svg'))"
      ],
      "execution_count": null,
      "outputs": [
        {
          "output_type": "stream",
          "text": [
            "Model: \"model_5\"\n",
            "_________________________________________________________________\n",
            "Layer (type)                 Output Shape              Param #   \n",
            "=================================================================\n",
            "review_input (InputLayer)    [(None, 52)]              0         \n",
            "_________________________________________________________________\n",
            "embedding_5 (Embedding)      (None, 52, 100)           1949100   \n",
            "_________________________________________________________________\n",
            "bidirectional_1 (Bidirection (None, 200)               121200    \n",
            "_________________________________________________________________\n",
            "dense_10 (Dense)             (None, 25)                5025      \n",
            "_________________________________________________________________\n",
            "dense_11 (Dense)             (None, 5)                 130       \n",
            "=================================================================\n",
            "Total params: 2,075,455\n",
            "Trainable params: 2,075,455\n",
            "Non-trainable params: 0\n",
            "_________________________________________________________________\n",
            "None\n"
          ],
          "name": "stdout"
        },
        {
          "output_type": "execute_result",
          "data": {
            "text/plain": [
              "<IPython.core.display.SVG object>"
            ],
            "image/svg+xml": "<svg height=\"449pt\" viewBox=\"0.00 0.00 275.00 337.00\" width=\"367pt\" xmlns=\"http://www.w3.org/2000/svg\" xmlns:xlink=\"http://www.w3.org/1999/xlink\">\n<g class=\"graph\" id=\"graph0\" transform=\"scale(1.3333 1.3333) rotate(0) translate(4 333)\">\n<title>G</title>\n<polygon fill=\"#ffffff\" points=\"-4,4 -4,-333 271,-333 271,4 -4,4\" stroke=\"transparent\"/>\n<!-- 139965103707536 -->\n<g class=\"node\" id=\"node1\">\n<title>139965103707536</title>\n<polygon fill=\"none\" points=\"51.5,-292.5 51.5,-328.5 215.5,-328.5 215.5,-292.5 51.5,-292.5\" stroke=\"#000000\"/>\n<text fill=\"#000000\" font-family=\"Times,serif\" font-size=\"14.00\" text-anchor=\"middle\" x=\"133.5\" y=\"-306.8\">review_input: InputLayer</text>\n</g>\n<!-- 139965102634000 -->\n<g class=\"node\" id=\"node2\">\n<title>139965102634000</title>\n<polygon fill=\"none\" points=\"48,-219.5 48,-255.5 219,-255.5 219,-219.5 48,-219.5\" stroke=\"#000000\"/>\n<text fill=\"#000000\" font-family=\"Times,serif\" font-size=\"14.00\" text-anchor=\"middle\" x=\"133.5\" y=\"-233.8\">embedding_5: Embedding</text>\n</g>\n<!-- 139965103707536&#45;&gt;139965102634000 -->\n<g class=\"edge\" id=\"edge1\">\n<title>139965103707536-&gt;139965102634000</title>\n<path d=\"M133.5,-292.4551C133.5,-284.3828 133.5,-274.6764 133.5,-265.6817\" fill=\"none\" stroke=\"#000000\"/>\n<polygon fill=\"#000000\" points=\"137.0001,-265.5903 133.5,-255.5904 130.0001,-265.5904 137.0001,-265.5903\" stroke=\"#000000\"/>\n</g>\n<!-- 139965134824272 -->\n<g class=\"node\" id=\"node3\">\n<title>139965134824272</title>\n<polygon fill=\"none\" points=\"0,-146.5 0,-182.5 267,-182.5 267,-146.5 0,-146.5\" stroke=\"#000000\"/>\n<text fill=\"#000000\" font-family=\"Times,serif\" font-size=\"14.00\" text-anchor=\"middle\" x=\"133.5\" y=\"-160.8\">bidirectional_1(gru_1): Bidirectional(GRU)</text>\n</g>\n<!-- 139965102634000&#45;&gt;139965134824272 -->\n<g class=\"edge\" id=\"edge2\">\n<title>139965102634000-&gt;139965134824272</title>\n<path d=\"M133.5,-219.4551C133.5,-211.3828 133.5,-201.6764 133.5,-192.6817\" fill=\"none\" stroke=\"#000000\"/>\n<polygon fill=\"#000000\" points=\"137.0001,-192.5903 133.5,-182.5904 130.0001,-192.5904 137.0001,-192.5903\" stroke=\"#000000\"/>\n</g>\n<!-- 139965102458128 -->\n<g class=\"node\" id=\"node4\">\n<title>139965102458128</title>\n<polygon fill=\"none\" points=\"76.5,-73.5 76.5,-109.5 190.5,-109.5 190.5,-73.5 76.5,-73.5\" stroke=\"#000000\"/>\n<text fill=\"#000000\" font-family=\"Times,serif\" font-size=\"14.00\" text-anchor=\"middle\" x=\"133.5\" y=\"-87.8\">dense_10: Dense</text>\n</g>\n<!-- 139965134824272&#45;&gt;139965102458128 -->\n<g class=\"edge\" id=\"edge3\">\n<title>139965134824272-&gt;139965102458128</title>\n<path d=\"M133.5,-146.4551C133.5,-138.3828 133.5,-128.6764 133.5,-119.6817\" fill=\"none\" stroke=\"#000000\"/>\n<polygon fill=\"#000000\" points=\"137.0001,-119.5903 133.5,-109.5904 130.0001,-119.5904 137.0001,-119.5903\" stroke=\"#000000\"/>\n</g>\n<!-- 139965102652048 -->\n<g class=\"node\" id=\"node5\">\n<title>139965102652048</title>\n<polygon fill=\"none\" points=\"77,-.5 77,-36.5 190,-36.5 190,-.5 77,-.5\" stroke=\"#000000\"/>\n<text fill=\"#000000\" font-family=\"Times,serif\" font-size=\"14.00\" text-anchor=\"middle\" x=\"133.5\" y=\"-14.8\">dense_11: Dense</text>\n</g>\n<!-- 139965102458128&#45;&gt;139965102652048 -->\n<g class=\"edge\" id=\"edge4\">\n<title>139965102458128-&gt;139965102652048</title>\n<path d=\"M133.5,-73.4551C133.5,-65.3828 133.5,-55.6764 133.5,-46.6817\" fill=\"none\" stroke=\"#000000\"/>\n<polygon fill=\"#000000\" points=\"137.0001,-46.5903 133.5,-36.5904 130.0001,-46.5904 137.0001,-46.5903\" stroke=\"#000000\"/>\n</g>\n</g>\n</svg>"
          },
          "metadata": {
            "tags": []
          },
          "execution_count": 69
        }
      ]
    },
    {
      "cell_type": "code",
      "metadata": {
        "id": "gYxPsxFBoSWK",
        "colab": {
          "base_uri": "https://localhost:8080/"
        },
        "outputId": "bf6a92b2-1d08-4a0d-bd1a-c1ee26db30c6"
      },
      "source": [
        "sentiment_bigru.fit(X_training,Y_training,epochs= 5,batch_size=32,verbose=True,validation_data=(X_validating,Y_validating))"
      ],
      "execution_count": null,
      "outputs": [
        {
          "output_type": "stream",
          "text": [
            "Epoch 1/5\n",
            "1329/1329 [==============================] - 34s 23ms/step - loss: 0.9682 - acc: 0.6582 - val_loss: 0.7054 - val_acc: 0.7308\n",
            "Epoch 2/5\n",
            "1329/1329 [==============================] - 30s 23ms/step - loss: 0.6406 - acc: 0.7568 - val_loss: 0.6708 - val_acc: 0.7477\n",
            "Epoch 3/5\n",
            "1329/1329 [==============================] - 29s 22ms/step - loss: 0.5421 - acc: 0.7946 - val_loss: 0.6750 - val_acc: 0.7491\n",
            "Epoch 4/5\n",
            "1329/1329 [==============================] - 30s 22ms/step - loss: 0.4618 - acc: 0.8292 - val_loss: 0.7040 - val_acc: 0.7464\n",
            "Epoch 5/5\n",
            "1329/1329 [==============================] - 29s 22ms/step - loss: 0.3947 - acc: 0.8607 - val_loss: 0.7700 - val_acc: 0.7469\n"
          ],
          "name": "stdout"
        },
        {
          "output_type": "execute_result",
          "data": {
            "text/plain": [
              "<tensorflow.python.keras.callbacks.History at 0x7f4c2a2102d0>"
            ]
          },
          "metadata": {
            "tags": []
          },
          "execution_count": 70
        }
      ]
    },
    {
      "cell_type": "code",
      "metadata": {
        "id": "e1n6nibroifH",
        "colab": {
          "base_uri": "https://localhost:8080/"
        },
        "outputId": "b9e5f458-50e3-4bd4-cc60-c97b01c5cbe4"
      },
      "source": [
        "test_loss, test_acc=sentiment_bigru.evaluate(test_X,test_y)\n",
        "pred_Y=sentiment_bigru.predict(test_X)\n",
        "print('Test Classification Report:')\n",
        "predictions=[]\n",
        "for i in range(len(pred_Y)):\n",
        "  predictions.append(np.argmax(pred_Y[i])+1)\n",
        "print(classification_report(test_data.ratings,predictions))"
      ],
      "execution_count": null,
      "outputs": [
        {
          "output_type": "stream",
          "text": [
            "313/313 [==============================] - 1s 4ms/step - loss: 0.9681 - acc: 0.6770\n",
            "Test Classification Report:\n",
            "              precision    recall  f1-score   support\n",
            "\n",
            "           1       0.62      0.70      0.65      1271\n",
            "           2       0.23      0.17      0.20       630\n",
            "           3       0.35      0.33      0.34       911\n",
            "           4       0.35      0.23      0.28      1404\n",
            "           5       0.82      0.89      0.85      5784\n",
            "\n",
            "    accuracy                           0.68     10000\n",
            "   macro avg       0.47      0.46      0.46     10000\n",
            "weighted avg       0.65      0.68      0.66     10000\n",
            "\n"
          ],
          "name": "stdout"
        }
      ]
    },
    {
      "cell_type": "markdown",
      "metadata": {
        "id": "RdR4TQ_uTtkP"
      },
      "source": [
        "#Using Glove as Pre-Trained Embedding"
      ]
    },
    {
      "cell_type": "code",
      "metadata": {
        "id": "7po9LL7HT0vm",
        "colab": {
          "base_uri": "https://localhost:8080/"
        },
        "outputId": "e72f9d65-f039-4ee7-9a42-c84485b72949"
      },
      "source": [
        "!wget http://nlp.stanford.edu/data/glove.6B.zip\n",
        "from zipfile import ZipFile\n",
        "with ZipFile('/content/glove.6B.zip', 'r') as z:\n",
        "  z.extractall()"
      ],
      "execution_count": null,
      "outputs": [
        {
          "output_type": "stream",
          "text": [
            "--2021-04-13 05:39:36--  http://nlp.stanford.edu/data/glove.6B.zip\n",
            "Resolving nlp.stanford.edu (nlp.stanford.edu)... 171.64.67.140\n",
            "Connecting to nlp.stanford.edu (nlp.stanford.edu)|171.64.67.140|:80... connected.\n",
            "HTTP request sent, awaiting response... 302 Found\n",
            "Location: https://nlp.stanford.edu/data/glove.6B.zip [following]\n",
            "--2021-04-13 05:39:36--  https://nlp.stanford.edu/data/glove.6B.zip\n",
            "Connecting to nlp.stanford.edu (nlp.stanford.edu)|171.64.67.140|:443... connected.\n",
            "HTTP request sent, awaiting response... 301 Moved Permanently\n",
            "Location: http://downloads.cs.stanford.edu/nlp/data/glove.6B.zip [following]\n",
            "--2021-04-13 05:39:37--  http://downloads.cs.stanford.edu/nlp/data/glove.6B.zip\n",
            "Resolving downloads.cs.stanford.edu (downloads.cs.stanford.edu)... 171.64.64.22\n",
            "Connecting to downloads.cs.stanford.edu (downloads.cs.stanford.edu)|171.64.64.22|:80... connected.\n",
            "HTTP request sent, awaiting response... 200 OK\n",
            "Length: 862182613 (822M) [application/zip]\n",
            "Saving to: ‘glove.6B.zip’\n",
            "\n",
            "glove.6B.zip        100%[===================>] 822.24M  5.04MB/s    in 2m 42s  \n",
            "\n",
            "2021-04-13 05:42:19 (5.07 MB/s) - ‘glove.6B.zip’ saved [862182613/862182613]\n",
            "\n"
          ],
          "name": "stdout"
        }
      ]
    },
    {
      "cell_type": "code",
      "metadata": {
        "id": "kEeUNxQFgDTf",
        "colab": {
          "base_uri": "https://localhost:8080/"
        },
        "outputId": "a77cff55-d5e5-4294-ce18-66ea2428f152"
      },
      "source": [
        "# load the whole embedding into memory\n",
        "embeddings_index = dict()\n",
        "f = open('./glove.6B.100d.txt')\n",
        "for line in f:\n",
        "\tvalues = line.split()\n",
        "\tword = values[0]\n",
        "\tcoefs = np.asarray(values[1:], dtype='float32')\n",
        "\tembeddings_index[word] = coefs\n",
        "f.close()\n",
        "print('Loaded %s word vectors.' % len(embeddings_index))\n",
        "vocab = tokenizer.sequences_to_texts(texts_train)\n",
        "# Adding 1 because of reserved 0 index\n",
        "vocab_size = len(tokenizer.word_index) + 1\n",
        "\n",
        "print (vocab_size)\n",
        "\n",
        "# create a weight matrix for words in training docs\n",
        "embedding_matrix = np.zeros((vocab_size, 100))\n",
        "for word, i in tokenizer.word_index.items():\n",
        "\tembedding_vector = embeddings_index.get(word)\n",
        "\tif embedding_vector is not None:\n",
        "\t\tembedding_matrix[i] = embedding_vector"
      ],
      "execution_count": null,
      "outputs": [
        {
          "output_type": "stream",
          "text": [
            "Loaded 400000 word vectors.\n",
            "19491\n"
          ],
          "name": "stdout"
        }
      ]
    },
    {
      "cell_type": "markdown",
      "metadata": {
        "id": "WzpwG8G9Rb1l"
      },
      "source": [
        "#Using RNN layer"
      ]
    },
    {
      "cell_type": "code",
      "metadata": {
        "id": "pITpmPzWRfNN",
        "colab": {
          "base_uri": "https://localhost:8080/",
          "height": 949
        },
        "outputId": "5f0ae687-39a7-41c0-ce5b-cd01798eaeb1"
      },
      "source": [
        "# Add sequential model\n",
        "sentiment_rnn_glove = Sequential()\n",
        "# Add embedding layer \n",
        "#No of output dimenstions is 100 as we embedded with Glove 100d\n",
        "Embed_Layer = Embedding(vocab_size, 100, weights=[embedding_matrix], input_length=(MAX_SEQUENCE_LENGTH,), trainable=True)\n",
        "#define Inputs\n",
        "review_input = Input(shape=(MAX_SEQUENCE_LENGTH,),dtype= 'int32',name = 'review_input')\n",
        "review_embedding = Embed_Layer(review_input)\n",
        "Rnn_Layer = SimpleRNN(100)\n",
        "Rnn = Rnn_Layer(review_embedding)\n",
        "output_size = 5\n",
        "dense1= Dense(25,activation='sigmoid')(Rnn)\n",
        "predict = Dense(5,activation='softmax')(dense1)\n",
        "\n",
        "sentiment_rnn_glove = Model(inputs=[review_input],outputs=[predict])\n",
        "sentiment_rnn_glove.compile(optimizer='adam',loss='categorical_crossentropy',metrics=['acc'])\n",
        "print(sentiment_rnn_glove.summary())\n",
        "SVG(model_to_dot(sentiment_rnn_glove).create(prog='dot', format='svg'))"
      ],
      "execution_count": null,
      "outputs": [
        {
          "output_type": "stream",
          "text": [
            "Model: \"model_6\"\n",
            "_________________________________________________________________\n",
            "Layer (type)                 Output Shape              Param #   \n",
            "=================================================================\n",
            "review_input (InputLayer)    [(None, 52)]              0         \n",
            "_________________________________________________________________\n",
            "embedding_6 (Embedding)      (None, 52, 100)           1949100   \n",
            "_________________________________________________________________\n",
            "simple_rnn_2 (SimpleRNN)     (None, 100)               20100     \n",
            "_________________________________________________________________\n",
            "dense_12 (Dense)             (None, 25)                2525      \n",
            "_________________________________________________________________\n",
            "dense_13 (Dense)             (None, 5)                 130       \n",
            "=================================================================\n",
            "Total params: 1,971,855\n",
            "Trainable params: 1,971,855\n",
            "Non-trainable params: 0\n",
            "_________________________________________________________________\n",
            "None\n"
          ],
          "name": "stdout"
        },
        {
          "output_type": "execute_result",
          "data": {
            "text/plain": [
              "<IPython.core.display.SVG object>"
            ],
            "image/svg+xml": "<svg height=\"449pt\" viewBox=\"0.00 0.00 183.00 337.00\" width=\"244pt\" xmlns=\"http://www.w3.org/2000/svg\" xmlns:xlink=\"http://www.w3.org/1999/xlink\">\n<g class=\"graph\" id=\"graph0\" transform=\"scale(1.3333 1.3333) rotate(0) translate(4 333)\">\n<title>G</title>\n<polygon fill=\"#ffffff\" points=\"-4,4 -4,-333 179,-333 179,4 -4,4\" stroke=\"transparent\"/>\n<!-- 139965101240400 -->\n<g class=\"node\" id=\"node1\">\n<title>139965101240400</title>\n<polygon fill=\"none\" points=\"5.5,-292.5 5.5,-328.5 169.5,-328.5 169.5,-292.5 5.5,-292.5\" stroke=\"#000000\"/>\n<text fill=\"#000000\" font-family=\"Times,serif\" font-size=\"14.00\" text-anchor=\"middle\" x=\"87.5\" y=\"-306.8\">review_input: InputLayer</text>\n</g>\n<!-- 139965101250320 -->\n<g class=\"node\" id=\"node2\">\n<title>139965101250320</title>\n<polygon fill=\"none\" points=\"2,-219.5 2,-255.5 173,-255.5 173,-219.5 2,-219.5\" stroke=\"#000000\"/>\n<text fill=\"#000000\" font-family=\"Times,serif\" font-size=\"14.00\" text-anchor=\"middle\" x=\"87.5\" y=\"-233.8\">embedding_6: Embedding</text>\n</g>\n<!-- 139965101240400&#45;&gt;139965101250320 -->\n<g class=\"edge\" id=\"edge1\">\n<title>139965101240400-&gt;139965101250320</title>\n<path d=\"M87.5,-292.4551C87.5,-284.3828 87.5,-274.6764 87.5,-265.6817\" fill=\"none\" stroke=\"#000000\"/>\n<polygon fill=\"#000000\" points=\"91.0001,-265.5903 87.5,-255.5904 84.0001,-265.5904 91.0001,-265.5903\" stroke=\"#000000\"/>\n</g>\n<!-- 139964963126672 -->\n<g class=\"node\" id=\"node3\">\n<title>139964963126672</title>\n<polygon fill=\"none\" points=\"0,-146.5 0,-182.5 175,-182.5 175,-146.5 0,-146.5\" stroke=\"#000000\"/>\n<text fill=\"#000000\" font-family=\"Times,serif\" font-size=\"14.00\" text-anchor=\"middle\" x=\"87.5\" y=\"-160.8\">simple_rnn_2: SimpleRNN</text>\n</g>\n<!-- 139965101250320&#45;&gt;139964963126672 -->\n<g class=\"edge\" id=\"edge2\">\n<title>139965101250320-&gt;139964963126672</title>\n<path d=\"M87.5,-219.4551C87.5,-211.3828 87.5,-201.6764 87.5,-192.6817\" fill=\"none\" stroke=\"#000000\"/>\n<polygon fill=\"#000000\" points=\"91.0001,-192.5903 87.5,-182.5904 84.0001,-192.5904 91.0001,-192.5903\" stroke=\"#000000\"/>\n</g>\n<!-- 139965102635408 -->\n<g class=\"node\" id=\"node4\">\n<title>139965102635408</title>\n<polygon fill=\"none\" points=\"30.5,-73.5 30.5,-109.5 144.5,-109.5 144.5,-73.5 30.5,-73.5\" stroke=\"#000000\"/>\n<text fill=\"#000000\" font-family=\"Times,serif\" font-size=\"14.00\" text-anchor=\"middle\" x=\"87.5\" y=\"-87.8\">dense_12: Dense</text>\n</g>\n<!-- 139964963126672&#45;&gt;139965102635408 -->\n<g class=\"edge\" id=\"edge3\">\n<title>139964963126672-&gt;139965102635408</title>\n<path d=\"M87.5,-146.4551C87.5,-138.3828 87.5,-128.6764 87.5,-119.6817\" fill=\"none\" stroke=\"#000000\"/>\n<polygon fill=\"#000000\" points=\"91.0001,-119.5903 87.5,-109.5904 84.0001,-119.5904 91.0001,-119.5903\" stroke=\"#000000\"/>\n</g>\n<!-- 139965101241040 -->\n<g class=\"node\" id=\"node5\">\n<title>139965101241040</title>\n<polygon fill=\"none\" points=\"30.5,-.5 30.5,-36.5 144.5,-36.5 144.5,-.5 30.5,-.5\" stroke=\"#000000\"/>\n<text fill=\"#000000\" font-family=\"Times,serif\" font-size=\"14.00\" text-anchor=\"middle\" x=\"87.5\" y=\"-14.8\">dense_13: Dense</text>\n</g>\n<!-- 139965102635408&#45;&gt;139965101241040 -->\n<g class=\"edge\" id=\"edge4\">\n<title>139965102635408-&gt;139965101241040</title>\n<path d=\"M87.5,-73.4551C87.5,-65.3828 87.5,-55.6764 87.5,-46.6817\" fill=\"none\" stroke=\"#000000\"/>\n<polygon fill=\"#000000\" points=\"91.0001,-46.5903 87.5,-36.5904 84.0001,-46.5904 91.0001,-46.5903\" stroke=\"#000000\"/>\n</g>\n</g>\n</svg>"
          },
          "metadata": {
            "tags": []
          },
          "execution_count": 74
        }
      ]
    },
    {
      "cell_type": "code",
      "metadata": {
        "id": "QyGIfXtRRqd9",
        "colab": {
          "base_uri": "https://localhost:8080/"
        },
        "outputId": "c4fe49e6-a0a3-4f00-a1d2-11d83a219967"
      },
      "source": [
        "sentiment_rnn_glove.fit(X_training,Y_training,epochs= 5,batch_size=32,verbose=True,validation_data=(X_validating,Y_validating))"
      ],
      "execution_count": null,
      "outputs": [
        {
          "output_type": "stream",
          "text": [
            "Epoch 1/5\n",
            "1329/1329 [==============================] - 72s 53ms/step - loss: 1.0976 - acc: 0.6612 - val_loss: 1.0825 - val_acc: 0.6639\n",
            "Epoch 2/5\n",
            "1329/1329 [==============================] - 70s 53ms/step - loss: 1.0782 - acc: 0.6656 - val_loss: 1.0802 - val_acc: 0.6639\n",
            "Epoch 3/5\n",
            "1329/1329 [==============================] - 71s 54ms/step - loss: 1.0852 - acc: 0.6609 - val_loss: 1.0787 - val_acc: 0.6639\n",
            "Epoch 4/5\n",
            "1329/1329 [==============================] - 72s 55ms/step - loss: 1.0687 - acc: 0.6680 - val_loss: 1.0791 - val_acc: 0.6639\n",
            "Epoch 5/5\n",
            "1329/1329 [==============================] - 71s 53ms/step - loss: 1.0826 - acc: 0.6625 - val_loss: 1.0795 - val_acc: 0.6639\n"
          ],
          "name": "stdout"
        },
        {
          "output_type": "execute_result",
          "data": {
            "text/plain": [
              "<tensorflow.python.keras.callbacks.History at 0x7f4c21e89650>"
            ]
          },
          "metadata": {
            "tags": []
          },
          "execution_count": 75
        }
      ]
    },
    {
      "cell_type": "code",
      "metadata": {
        "id": "HMvZwGpFRuKk",
        "colab": {
          "base_uri": "https://localhost:8080/"
        },
        "outputId": "cd3c76b6-20f3-4e24-e0fc-88fccbd14ba4"
      },
      "source": [
        "test_loss, test_acc=sentiment_rnn_glove.evaluate(test_X,test_y)\n",
        "pred_Y=sentiment_rnn_glove.predict(test_X)\n",
        "print('Test Classification Report:')\n",
        "predictions_glove=[]\n",
        "for i in range(len(pred_Y)):\n",
        "  predictions_glove.append(np.argmax(pred_Y[i])+1)\n",
        "print(classification_report(test_data.ratings,predictions_glove))"
      ],
      "execution_count": null,
      "outputs": [
        {
          "output_type": "stream",
          "text": [
            "313/313 [==============================] - 2s 5ms/step - loss: 1.2629 - acc: 0.5784\n",
            "Test Classification Report:\n",
            "              precision    recall  f1-score   support\n",
            "\n",
            "           1       0.00      0.00      0.00      1271\n",
            "           2       0.00      0.00      0.00       630\n",
            "           3       0.00      0.00      0.00       911\n",
            "           4       0.00      0.00      0.00      1404\n",
            "           5       0.58      1.00      0.73      5784\n",
            "\n",
            "    accuracy                           0.58     10000\n",
            "   macro avg       0.12      0.20      0.15     10000\n",
            "weighted avg       0.33      0.58      0.42     10000\n",
            "\n"
          ],
          "name": "stdout"
        },
        {
          "output_type": "stream",
          "text": [
            "/usr/local/lib/python3.7/dist-packages/sklearn/metrics/_classification.py:1272: UndefinedMetricWarning: Precision and F-score are ill-defined and being set to 0.0 in labels with no predicted samples. Use `zero_division` parameter to control this behavior.\n",
            "  _warn_prf(average, modifier, msg_start, len(result))\n"
          ],
          "name": "stderr"
        }
      ]
    },
    {
      "cell_type": "markdown",
      "metadata": {
        "id": "OSjSSYtrgeJY"
      },
      "source": [
        "# Using LSTM Layer"
      ]
    },
    {
      "cell_type": "code",
      "metadata": {
        "id": "iKtY2uTKgMXR",
        "colab": {
          "base_uri": "https://localhost:8080/",
          "height": 949
        },
        "outputId": "d824502f-2917-47fe-e34b-b99c171a0b44"
      },
      "source": [
        "# Add sequential model\n",
        "sentiment_lstm_glove = Sequential()\n",
        "# Add embedding layer \n",
        "#No of output dimenstions is 100 as we embedded with Glove 100d\n",
        "Embed_Layer = Embedding(vocab_size, 100, weights=[embedding_matrix], input_length=(MAX_SEQUENCE_LENGTH,), trainable=True)\n",
        "#define Inputs\n",
        "review_input = Input(shape=(MAX_SEQUENCE_LENGTH,),dtype= 'int32',name = 'review_input')\n",
        "review_embedding = Embed_Layer(review_input)\n",
        "Lstm_Layer = LSTM(100)\n",
        "Lstm = Lstm_Layer(review_embedding)\n",
        "output_size = 5\n",
        "dense1= Dense(25,activation='sigmoid')(Lstm)\n",
        "predict = Dense(5,activation='softmax')(dense1)\n",
        "\n",
        "sentiment_lstm_glove = Model(inputs=[review_input],outputs=[predict])\n",
        "sentiment_lstm_glove.compile(optimizer='adam',loss='categorical_crossentropy',metrics=['acc'])\n",
        "print(sentiment_lstm_glove.summary())\n",
        "SVG(model_to_dot(sentiment_lstm_glove).create(prog='dot', format='svg'))"
      ],
      "execution_count": null,
      "outputs": [
        {
          "output_type": "stream",
          "text": [
            "Model: \"model_7\"\n",
            "_________________________________________________________________\n",
            "Layer (type)                 Output Shape              Param #   \n",
            "=================================================================\n",
            "review_input (InputLayer)    [(None, 52)]              0         \n",
            "_________________________________________________________________\n",
            "embedding_7 (Embedding)      (None, 52, 100)           1949100   \n",
            "_________________________________________________________________\n",
            "lstm_2 (LSTM)                (None, 100)               80400     \n",
            "_________________________________________________________________\n",
            "dense_14 (Dense)             (None, 25)                2525      \n",
            "_________________________________________________________________\n",
            "dense_15 (Dense)             (None, 5)                 130       \n",
            "=================================================================\n",
            "Total params: 2,032,155\n",
            "Trainable params: 2,032,155\n",
            "Non-trainable params: 0\n",
            "_________________________________________________________________\n",
            "None\n"
          ],
          "name": "stdout"
        },
        {
          "output_type": "execute_result",
          "data": {
            "text/plain": [
              "<IPython.core.display.SVG object>"
            ],
            "image/svg+xml": "<svg height=\"449pt\" viewBox=\"0.00 0.00 179.00 337.00\" width=\"239pt\" xmlns=\"http://www.w3.org/2000/svg\" xmlns:xlink=\"http://www.w3.org/1999/xlink\">\n<g class=\"graph\" id=\"graph0\" transform=\"scale(1.3333 1.3333) rotate(0) translate(4 333)\">\n<title>G</title>\n<polygon fill=\"#ffffff\" points=\"-4,4 -4,-333 175,-333 175,4 -4,4\" stroke=\"transparent\"/>\n<!-- 139965113565072 -->\n<g class=\"node\" id=\"node1\">\n<title>139965113565072</title>\n<polygon fill=\"none\" points=\"3.5,-292.5 3.5,-328.5 167.5,-328.5 167.5,-292.5 3.5,-292.5\" stroke=\"#000000\"/>\n<text fill=\"#000000\" font-family=\"Times,serif\" font-size=\"14.00\" text-anchor=\"middle\" x=\"85.5\" y=\"-306.8\">review_input: InputLayer</text>\n</g>\n<!-- 139965103926096 -->\n<g class=\"node\" id=\"node2\">\n<title>139965103926096</title>\n<polygon fill=\"none\" points=\"0,-219.5 0,-255.5 171,-255.5 171,-219.5 0,-219.5\" stroke=\"#000000\"/>\n<text fill=\"#000000\" font-family=\"Times,serif\" font-size=\"14.00\" text-anchor=\"middle\" x=\"85.5\" y=\"-233.8\">embedding_7: Embedding</text>\n</g>\n<!-- 139965113565072&#45;&gt;139965103926096 -->\n<g class=\"edge\" id=\"edge1\">\n<title>139965113565072-&gt;139965103926096</title>\n<path d=\"M85.5,-292.4551C85.5,-284.3828 85.5,-274.6764 85.5,-265.6817\" fill=\"none\" stroke=\"#000000\"/>\n<polygon fill=\"#000000\" points=\"89.0001,-265.5903 85.5,-255.5904 82.0001,-265.5904 89.0001,-265.5903\" stroke=\"#000000\"/>\n</g>\n<!-- 139964876664592 -->\n<g class=\"node\" id=\"node3\">\n<title>139964876664592</title>\n<polygon fill=\"none\" points=\"34.5,-146.5 34.5,-182.5 136.5,-182.5 136.5,-146.5 34.5,-146.5\" stroke=\"#000000\"/>\n<text fill=\"#000000\" font-family=\"Times,serif\" font-size=\"14.00\" text-anchor=\"middle\" x=\"85.5\" y=\"-160.8\">lstm_2: LSTM</text>\n</g>\n<!-- 139965103926096&#45;&gt;139964876664592 -->\n<g class=\"edge\" id=\"edge2\">\n<title>139965103926096-&gt;139964876664592</title>\n<path d=\"M85.5,-219.4551C85.5,-211.3828 85.5,-201.6764 85.5,-192.6817\" fill=\"none\" stroke=\"#000000\"/>\n<polygon fill=\"#000000\" points=\"89.0001,-192.5903 85.5,-182.5904 82.0001,-192.5904 89.0001,-192.5903\" stroke=\"#000000\"/>\n</g>\n<!-- 139964876591312 -->\n<g class=\"node\" id=\"node4\">\n<title>139964876591312</title>\n<polygon fill=\"none\" points=\"28.5,-73.5 28.5,-109.5 142.5,-109.5 142.5,-73.5 28.5,-73.5\" stroke=\"#000000\"/>\n<text fill=\"#000000\" font-family=\"Times,serif\" font-size=\"14.00\" text-anchor=\"middle\" x=\"85.5\" y=\"-87.8\">dense_14: Dense</text>\n</g>\n<!-- 139964876664592&#45;&gt;139964876591312 -->\n<g class=\"edge\" id=\"edge3\">\n<title>139964876664592-&gt;139964876591312</title>\n<path d=\"M85.5,-146.4551C85.5,-138.3828 85.5,-128.6764 85.5,-119.6817\" fill=\"none\" stroke=\"#000000\"/>\n<polygon fill=\"#000000\" points=\"89.0001,-119.5903 85.5,-109.5904 82.0001,-119.5904 89.0001,-119.5903\" stroke=\"#000000\"/>\n</g>\n<!-- 139965102787920 -->\n<g class=\"node\" id=\"node5\">\n<title>139965102787920</title>\n<polygon fill=\"none\" points=\"28.5,-.5 28.5,-36.5 142.5,-36.5 142.5,-.5 28.5,-.5\" stroke=\"#000000\"/>\n<text fill=\"#000000\" font-family=\"Times,serif\" font-size=\"14.00\" text-anchor=\"middle\" x=\"85.5\" y=\"-14.8\">dense_15: Dense</text>\n</g>\n<!-- 139964876591312&#45;&gt;139965102787920 -->\n<g class=\"edge\" id=\"edge4\">\n<title>139964876591312-&gt;139965102787920</title>\n<path d=\"M85.5,-73.4551C85.5,-65.3828 85.5,-55.6764 85.5,-46.6817\" fill=\"none\" stroke=\"#000000\"/>\n<polygon fill=\"#000000\" points=\"89.0001,-46.5903 85.5,-36.5904 82.0001,-46.5904 89.0001,-46.5903\" stroke=\"#000000\"/>\n</g>\n</g>\n</svg>"
          },
          "metadata": {
            "tags": []
          },
          "execution_count": 77
        }
      ]
    },
    {
      "cell_type": "code",
      "metadata": {
        "id": "0KD7gK-QhY8k",
        "colab": {
          "base_uri": "https://localhost:8080/"
        },
        "outputId": "e7aa1488-b89e-4d55-d6a0-7cf2bd24cc8a"
      },
      "source": [
        "sentiment_lstm_glove.fit(X_training,Y_training,epochs= 5,batch_size=32,verbose=True,validation_data=(X_validating,Y_validating))"
      ],
      "execution_count": null,
      "outputs": [
        {
          "output_type": "stream",
          "text": [
            "Epoch 1/5\n",
            "1329/1329 [==============================] - 29s 21ms/step - loss: 1.1265 - acc: 0.6362 - val_loss: 1.0791 - val_acc: 0.6639\n",
            "Epoch 2/5\n",
            "1329/1329 [==============================] - 27s 21ms/step - loss: 1.0813 - acc: 0.6631 - val_loss: 1.0792 - val_acc: 0.6639\n",
            "Epoch 3/5\n",
            "1329/1329 [==============================] - 27s 20ms/step - loss: 1.0801 - acc: 0.6632 - val_loss: 1.0789 - val_acc: 0.6639\n",
            "Epoch 4/5\n",
            "1329/1329 [==============================] - 27s 20ms/step - loss: 1.0772 - acc: 0.6654 - val_loss: 1.0795 - val_acc: 0.6639\n",
            "Epoch 5/5\n",
            "1329/1329 [==============================] - 27s 20ms/step - loss: 1.0828 - acc: 0.6622 - val_loss: 1.0798 - val_acc: 0.6639\n"
          ],
          "name": "stdout"
        },
        {
          "output_type": "execute_result",
          "data": {
            "text/plain": [
              "<tensorflow.python.keras.callbacks.History at 0x7f4c2a357690>"
            ]
          },
          "metadata": {
            "tags": []
          },
          "execution_count": 78
        }
      ]
    },
    {
      "cell_type": "code",
      "metadata": {
        "id": "MkclPK8gi6nN",
        "colab": {
          "base_uri": "https://localhost:8080/"
        },
        "outputId": "3117db5c-3a44-4e54-ceb7-823dbd038702"
      },
      "source": [
        "test_loss, test_acc=sentiment_lstm_glove.evaluate(test_X,test_y)\n",
        "pred_Y=sentiment_lstm_glove.predict(test_X)\n",
        "print('Test Classification Report:')\n",
        "predictions_glove=[]\n",
        "for i in range(len(pred_Y)):\n",
        "  predictions_glove.append(np.argmax(pred_Y[i])+1)\n",
        "print(classification_report(test_data.ratings,predictions_glove))"
      ],
      "execution_count": null,
      "outputs": [
        {
          "output_type": "stream",
          "text": [
            "313/313 [==============================] - 1s 3ms/step - loss: 1.2755 - acc: 0.5784\n",
            "Test Classification Report:\n",
            "              precision    recall  f1-score   support\n",
            "\n",
            "           1       0.00      0.00      0.00      1271\n",
            "           2       0.00      0.00      0.00       630\n",
            "           3       0.00      0.00      0.00       911\n",
            "           4       0.00      0.00      0.00      1404\n",
            "           5       0.58      1.00      0.73      5784\n",
            "\n",
            "    accuracy                           0.58     10000\n",
            "   macro avg       0.12      0.20      0.15     10000\n",
            "weighted avg       0.33      0.58      0.42     10000\n",
            "\n"
          ],
          "name": "stdout"
        },
        {
          "output_type": "stream",
          "text": [
            "/usr/local/lib/python3.7/dist-packages/sklearn/metrics/_classification.py:1272: UndefinedMetricWarning: Precision and F-score are ill-defined and being set to 0.0 in labels with no predicted samples. Use `zero_division` parameter to control this behavior.\n",
            "  _warn_prf(average, modifier, msg_start, len(result))\n"
          ],
          "name": "stderr"
        }
      ]
    },
    {
      "cell_type": "markdown",
      "metadata": {
        "id": "p0DnbAR2j9AB"
      },
      "source": [
        "#Bi-directional LSTM"
      ]
    },
    {
      "cell_type": "code",
      "metadata": {
        "id": "4fm6ckxJkA8_",
        "colab": {
          "base_uri": "https://localhost:8080/",
          "height": 949
        },
        "outputId": "a928991f-6b41-4499-cb46-d71eaea175f1"
      },
      "source": [
        "# Add sequential model\n",
        "sentiment_bilstm_glove = Sequential()\n",
        "# Add embedding layer \n",
        "#No of output dimenstions is 100 as we embedded with Glove 100d\n",
        "Embed_Layer = Embedding(vocab_size, 100, weights=[embedding_matrix], input_length=(MAX_SEQUENCE_LENGTH,), trainable=True)\n",
        "#define Inputs\n",
        "review_input = Input(shape=(MAX_SEQUENCE_LENGTH,),dtype= 'int32',name = 'review_input')\n",
        "review_embedding = Embed_Layer(review_input)\n",
        "Lstm_Layer = Bidirectional(LSTM(100))\n",
        "Lstm = Lstm_Layer(review_embedding)\n",
        "output_size = 5\n",
        "dense1= Dense(25,activation='sigmoid')(Lstm)\n",
        "predict = Dense(5,activation='softmax')(dense1)\n",
        "\n",
        "sentiment_bilstm_glove = Model(inputs=[review_input],outputs=[predict])\n",
        "sentiment_bilstm_glove.compile(optimizer='adam',loss='categorical_crossentropy',metrics=['acc'])\n",
        "print(sentiment_bilstm_glove.summary())\n",
        "SVG(model_to_dot(sentiment_bilstm_glove).create(prog='dot', format='svg'))"
      ],
      "execution_count": null,
      "outputs": [
        {
          "output_type": "stream",
          "text": [
            "Model: \"model_8\"\n",
            "_________________________________________________________________\n",
            "Layer (type)                 Output Shape              Param #   \n",
            "=================================================================\n",
            "review_input (InputLayer)    [(None, 52)]              0         \n",
            "_________________________________________________________________\n",
            "embedding_8 (Embedding)      (None, 52, 100)           1949100   \n",
            "_________________________________________________________________\n",
            "bidirectional_2 (Bidirection (None, 200)               160800    \n",
            "_________________________________________________________________\n",
            "dense_16 (Dense)             (None, 25)                5025      \n",
            "_________________________________________________________________\n",
            "dense_17 (Dense)             (None, 5)                 130       \n",
            "=================================================================\n",
            "Total params: 2,115,055\n",
            "Trainable params: 2,115,055\n",
            "Non-trainable params: 0\n",
            "_________________________________________________________________\n",
            "None\n"
          ],
          "name": "stdout"
        },
        {
          "output_type": "execute_result",
          "data": {
            "text/plain": [
              "<IPython.core.display.SVG object>"
            ],
            "image/svg+xml": "<svg height=\"449pt\" viewBox=\"0.00 0.00 288.00 337.00\" width=\"384pt\" xmlns=\"http://www.w3.org/2000/svg\" xmlns:xlink=\"http://www.w3.org/1999/xlink\">\n<g class=\"graph\" id=\"graph0\" transform=\"scale(1.3333 1.3333) rotate(0) translate(4 333)\">\n<title>G</title>\n<polygon fill=\"#ffffff\" points=\"-4,4 -4,-333 284,-333 284,4 -4,4\" stroke=\"transparent\"/>\n<!-- 139964834642256 -->\n<g class=\"node\" id=\"node1\">\n<title>139964834642256</title>\n<polygon fill=\"none\" points=\"58,-292.5 58,-328.5 222,-328.5 222,-292.5 58,-292.5\" stroke=\"#000000\"/>\n<text fill=\"#000000\" font-family=\"Times,serif\" font-size=\"14.00\" text-anchor=\"middle\" x=\"140\" y=\"-306.8\">review_input: InputLayer</text>\n</g>\n<!-- 139964834642320 -->\n<g class=\"node\" id=\"node2\">\n<title>139964834642320</title>\n<polygon fill=\"none\" points=\"54.5,-219.5 54.5,-255.5 225.5,-255.5 225.5,-219.5 54.5,-219.5\" stroke=\"#000000\"/>\n<text fill=\"#000000\" font-family=\"Times,serif\" font-size=\"14.00\" text-anchor=\"middle\" x=\"140\" y=\"-233.8\">embedding_8: Embedding</text>\n</g>\n<!-- 139964834642256&#45;&gt;139964834642320 -->\n<g class=\"edge\" id=\"edge1\">\n<title>139964834642256-&gt;139964834642320</title>\n<path d=\"M140,-292.4551C140,-284.3828 140,-274.6764 140,-265.6817\" fill=\"none\" stroke=\"#000000\"/>\n<polygon fill=\"#000000\" points=\"143.5001,-265.5903 140,-255.5904 136.5001,-265.5904 143.5001,-265.5903\" stroke=\"#000000\"/>\n</g>\n<!-- 139964875036432 -->\n<g class=\"node\" id=\"node3\">\n<title>139964875036432</title>\n<polygon fill=\"none\" points=\"0,-146.5 0,-182.5 280,-182.5 280,-146.5 0,-146.5\" stroke=\"#000000\"/>\n<text fill=\"#000000\" font-family=\"Times,serif\" font-size=\"14.00\" text-anchor=\"middle\" x=\"140\" y=\"-160.8\">bidirectional_2(lstm_3): Bidirectional(LSTM)</text>\n</g>\n<!-- 139964834642320&#45;&gt;139964875036432 -->\n<g class=\"edge\" id=\"edge2\">\n<title>139964834642320-&gt;139964875036432</title>\n<path d=\"M140,-219.4551C140,-211.3828 140,-201.6764 140,-192.6817\" fill=\"none\" stroke=\"#000000\"/>\n<polygon fill=\"#000000\" points=\"143.5001,-192.5903 140,-182.5904 136.5001,-192.5904 143.5001,-192.5903\" stroke=\"#000000\"/>\n</g>\n<!-- 139964834544400 -->\n<g class=\"node\" id=\"node4\">\n<title>139964834544400</title>\n<polygon fill=\"none\" points=\"83,-73.5 83,-109.5 197,-109.5 197,-73.5 83,-73.5\" stroke=\"#000000\"/>\n<text fill=\"#000000\" font-family=\"Times,serif\" font-size=\"14.00\" text-anchor=\"middle\" x=\"140\" y=\"-87.8\">dense_16: Dense</text>\n</g>\n<!-- 139964875036432&#45;&gt;139964834544400 -->\n<g class=\"edge\" id=\"edge3\">\n<title>139964875036432-&gt;139964834544400</title>\n<path d=\"M140,-146.4551C140,-138.3828 140,-128.6764 140,-119.6817\" fill=\"none\" stroke=\"#000000\"/>\n<polygon fill=\"#000000\" points=\"143.5001,-119.5903 140,-109.5904 136.5001,-119.5904 143.5001,-119.5903\" stroke=\"#000000\"/>\n</g>\n<!-- 139964833311440 -->\n<g class=\"node\" id=\"node5\">\n<title>139964833311440</title>\n<polygon fill=\"none\" points=\"83,-.5 83,-36.5 197,-36.5 197,-.5 83,-.5\" stroke=\"#000000\"/>\n<text fill=\"#000000\" font-family=\"Times,serif\" font-size=\"14.00\" text-anchor=\"middle\" x=\"140\" y=\"-14.8\">dense_17: Dense</text>\n</g>\n<!-- 139964834544400&#45;&gt;139964833311440 -->\n<g class=\"edge\" id=\"edge4\">\n<title>139964834544400-&gt;139964833311440</title>\n<path d=\"M140,-73.4551C140,-65.3828 140,-55.6764 140,-46.6817\" fill=\"none\" stroke=\"#000000\"/>\n<polygon fill=\"#000000\" points=\"143.5001,-46.5903 140,-36.5904 136.5001,-46.5904 143.5001,-46.5903\" stroke=\"#000000\"/>\n</g>\n</g>\n</svg>"
          },
          "metadata": {
            "tags": []
          },
          "execution_count": 80
        }
      ]
    },
    {
      "cell_type": "code",
      "metadata": {
        "id": "0_7AlkfsmsG_",
        "colab": {
          "base_uri": "https://localhost:8080/"
        },
        "outputId": "c57b547d-e8d6-4304-bade-4148685f4372"
      },
      "source": [
        "sentiment_bilstm_glove.fit(X_training,Y_training,epochs= 5,batch_size=32,verbose=True,validation_data=(X_validating,Y_validating))"
      ],
      "execution_count": null,
      "outputs": [
        {
          "output_type": "stream",
          "text": [
            "Epoch 1/5\n",
            "1329/1329 [==============================] - 35s 24ms/step - loss: 0.9556 - acc: 0.6741 - val_loss: 0.6973 - val_acc: 0.7424\n",
            "Epoch 2/5\n",
            "1329/1329 [==============================] - 31s 23ms/step - loss: 0.6408 - acc: 0.7590 - val_loss: 0.6684 - val_acc: 0.7485\n",
            "Epoch 3/5\n",
            "1329/1329 [==============================] - 30s 23ms/step - loss: 0.5522 - acc: 0.7889 - val_loss: 0.6590 - val_acc: 0.7500\n",
            "Epoch 4/5\n",
            "1329/1329 [==============================] - 30s 23ms/step - loss: 0.4679 - acc: 0.8278 - val_loss: 0.6861 - val_acc: 0.7523\n",
            "Epoch 5/5\n",
            "1329/1329 [==============================] - 31s 23ms/step - loss: 0.4012 - acc: 0.8546 - val_loss: 0.7355 - val_acc: 0.7464\n"
          ],
          "name": "stdout"
        },
        {
          "output_type": "execute_result",
          "data": {
            "text/plain": [
              "<tensorflow.python.keras.callbacks.History at 0x7f4c2a457b10>"
            ]
          },
          "metadata": {
            "tags": []
          },
          "execution_count": 81
        }
      ]
    },
    {
      "cell_type": "code",
      "metadata": {
        "id": "npCV0F6ImsE7",
        "colab": {
          "base_uri": "https://localhost:8080/"
        },
        "outputId": "fbb996be-85b1-4c94-df12-ffce5c193647"
      },
      "source": [
        "test_loss, test_acc=sentiment_bilstm_glove.evaluate(test_X,test_y)\n",
        "pred_Y=sentiment_bilstm_glove.predict(test_X)\n",
        "print('Test Classification Report:')\n",
        "predictions_glove=[]\n",
        "for i in range(len(pred_Y)):\n",
        "  predictions_glove.append(np.argmax(pred_Y[i])+1)\n",
        "print(classification_report(test_data.ratings,predictions_glove))"
      ],
      "execution_count": null,
      "outputs": [
        {
          "output_type": "stream",
          "text": [
            "313/313 [==============================] - 1s 4ms/step - loss: 0.8936 - acc: 0.6925\n",
            "Test Classification Report:\n",
            "              precision    recall  f1-score   support\n",
            "\n",
            "           1       0.64      0.67      0.65      1271\n",
            "           2       0.26      0.18      0.21       630\n",
            "           3       0.36      0.44      0.40       911\n",
            "           4       0.42      0.25      0.32      1404\n",
            "           5       0.83      0.90      0.86      5784\n",
            "\n",
            "    accuracy                           0.69     10000\n",
            "   macro avg       0.50      0.49      0.49     10000\n",
            "weighted avg       0.67      0.69      0.68     10000\n",
            "\n"
          ],
          "name": "stdout"
        }
      ]
    },
    {
      "cell_type": "markdown",
      "metadata": {
        "id": "egPrYtlJj892"
      },
      "source": [
        "#GRU"
      ]
    },
    {
      "cell_type": "code",
      "metadata": {
        "id": "fsnVCv0nnBgo",
        "colab": {
          "base_uri": "https://localhost:8080/",
          "height": 949
        },
        "outputId": "966cc3b4-2172-49d9-f3e2-207db36fb73d"
      },
      "source": [
        "# Add sequential model\n",
        "sentiment_gru_glove = Sequential()\n",
        "# Add embedding layer \n",
        "#No of output dimenstions is 100 as we embedded with Glove 100d\n",
        "Embed_Layer = Embedding(vocab_size, 100, weights=[embedding_matrix], input_length=(MAX_SEQUENCE_LENGTH,), trainable=True)\n",
        "#define Inputs\n",
        "review_input = Input(shape=(MAX_SEQUENCE_LENGTH,),dtype= 'int32',name = 'review_input')\n",
        "review_embedding = Embed_Layer(review_input)\n",
        "Gru_Layer = GRU(100)\n",
        "Gru = Gru_Layer(review_embedding)\n",
        "output_size = 5\n",
        "dense1= Dense(25,activation='sigmoid')(Gru)\n",
        "predict = Dense(5,activation='softmax')(dense1)\n",
        "\n",
        "sentiment_gru_glove = Model(inputs=[review_input],outputs=[predict])\n",
        "sentiment_gru_glove.compile(optimizer='adam',loss='categorical_crossentropy',metrics=['acc'])\n",
        "print(sentiment_gru_glove.summary())\n",
        "SVG(model_to_dot(sentiment_gru_glove).create(prog='dot', format='svg'))"
      ],
      "execution_count": null,
      "outputs": [
        {
          "output_type": "stream",
          "text": [
            "Model: \"model_9\"\n",
            "_________________________________________________________________\n",
            "Layer (type)                 Output Shape              Param #   \n",
            "=================================================================\n",
            "review_input (InputLayer)    [(None, 52)]              0         \n",
            "_________________________________________________________________\n",
            "embedding_9 (Embedding)      (None, 52, 100)           1949100   \n",
            "_________________________________________________________________\n",
            "gru_2 (GRU)                  (None, 100)               60600     \n",
            "_________________________________________________________________\n",
            "dense_18 (Dense)             (None, 25)                2525      \n",
            "_________________________________________________________________\n",
            "dense_19 (Dense)             (None, 5)                 130       \n",
            "=================================================================\n",
            "Total params: 2,012,355\n",
            "Trainable params: 2,012,355\n",
            "Non-trainable params: 0\n",
            "_________________________________________________________________\n",
            "None\n"
          ],
          "name": "stdout"
        },
        {
          "output_type": "execute_result",
          "data": {
            "text/plain": [
              "<IPython.core.display.SVG object>"
            ],
            "image/svg+xml": "<svg height=\"449pt\" viewBox=\"0.00 0.00 179.00 337.00\" width=\"239pt\" xmlns=\"http://www.w3.org/2000/svg\" xmlns:xlink=\"http://www.w3.org/1999/xlink\">\n<g class=\"graph\" id=\"graph0\" transform=\"scale(1.3333 1.3333) rotate(0) translate(4 333)\">\n<title>G</title>\n<polygon fill=\"#ffffff\" points=\"-4,4 -4,-333 175,-333 175,4 -4,4\" stroke=\"transparent\"/>\n<!-- 139964769078992 -->\n<g class=\"node\" id=\"node1\">\n<title>139964769078992</title>\n<polygon fill=\"none\" points=\"3.5,-292.5 3.5,-328.5 167.5,-328.5 167.5,-292.5 3.5,-292.5\" stroke=\"#000000\"/>\n<text fill=\"#000000\" font-family=\"Times,serif\" font-size=\"14.00\" text-anchor=\"middle\" x=\"85.5\" y=\"-306.8\">review_input: InputLayer</text>\n</g>\n<!-- 139964769078800 -->\n<g class=\"node\" id=\"node2\">\n<title>139964769078800</title>\n<polygon fill=\"none\" points=\"0,-219.5 0,-255.5 171,-255.5 171,-219.5 0,-219.5\" stroke=\"#000000\"/>\n<text fill=\"#000000\" font-family=\"Times,serif\" font-size=\"14.00\" text-anchor=\"middle\" x=\"85.5\" y=\"-233.8\">embedding_9: Embedding</text>\n</g>\n<!-- 139964769078992&#45;&gt;139964769078800 -->\n<g class=\"edge\" id=\"edge1\">\n<title>139964769078992-&gt;139964769078800</title>\n<path d=\"M85.5,-292.4551C85.5,-284.3828 85.5,-274.6764 85.5,-265.6817\" fill=\"none\" stroke=\"#000000\"/>\n<polygon fill=\"#000000\" points=\"89.0001,-265.5903 85.5,-255.5904 82.0001,-265.5904 89.0001,-265.5903\" stroke=\"#000000\"/>\n</g>\n<!-- 139964834641424 -->\n<g class=\"node\" id=\"node3\">\n<title>139964834641424</title>\n<polygon fill=\"none\" points=\"41,-146.5 41,-182.5 130,-182.5 130,-146.5 41,-146.5\" stroke=\"#000000\"/>\n<text fill=\"#000000\" font-family=\"Times,serif\" font-size=\"14.00\" text-anchor=\"middle\" x=\"85.5\" y=\"-160.8\">gru_2: GRU</text>\n</g>\n<!-- 139964769078800&#45;&gt;139964834641424 -->\n<g class=\"edge\" id=\"edge2\">\n<title>139964769078800-&gt;139964834641424</title>\n<path d=\"M85.5,-219.4551C85.5,-211.3828 85.5,-201.6764 85.5,-192.6817\" fill=\"none\" stroke=\"#000000\"/>\n<polygon fill=\"#000000\" points=\"89.0001,-192.5903 85.5,-182.5904 82.0001,-192.5904 89.0001,-192.5903\" stroke=\"#000000\"/>\n</g>\n<!-- 139964832825104 -->\n<g class=\"node\" id=\"node4\">\n<title>139964832825104</title>\n<polygon fill=\"none\" points=\"28.5,-73.5 28.5,-109.5 142.5,-109.5 142.5,-73.5 28.5,-73.5\" stroke=\"#000000\"/>\n<text fill=\"#000000\" font-family=\"Times,serif\" font-size=\"14.00\" text-anchor=\"middle\" x=\"85.5\" y=\"-87.8\">dense_18: Dense</text>\n</g>\n<!-- 139964834641424&#45;&gt;139964832825104 -->\n<g class=\"edge\" id=\"edge3\">\n<title>139964834641424-&gt;139964832825104</title>\n<path d=\"M85.5,-146.4551C85.5,-138.3828 85.5,-128.6764 85.5,-119.6817\" fill=\"none\" stroke=\"#000000\"/>\n<polygon fill=\"#000000\" points=\"89.0001,-119.5903 85.5,-109.5904 82.0001,-119.5904 89.0001,-119.5903\" stroke=\"#000000\"/>\n</g>\n<!-- 139964770315664 -->\n<g class=\"node\" id=\"node5\">\n<title>139964770315664</title>\n<polygon fill=\"none\" points=\"28.5,-.5 28.5,-36.5 142.5,-36.5 142.5,-.5 28.5,-.5\" stroke=\"#000000\"/>\n<text fill=\"#000000\" font-family=\"Times,serif\" font-size=\"14.00\" text-anchor=\"middle\" x=\"85.5\" y=\"-14.8\">dense_19: Dense</text>\n</g>\n<!-- 139964832825104&#45;&gt;139964770315664 -->\n<g class=\"edge\" id=\"edge4\">\n<title>139964832825104-&gt;139964770315664</title>\n<path d=\"M85.5,-73.4551C85.5,-65.3828 85.5,-55.6764 85.5,-46.6817\" fill=\"none\" stroke=\"#000000\"/>\n<polygon fill=\"#000000\" points=\"89.0001,-46.5903 85.5,-36.5904 82.0001,-46.5904 89.0001,-46.5903\" stroke=\"#000000\"/>\n</g>\n</g>\n</svg>"
          },
          "metadata": {
            "tags": []
          },
          "execution_count": 83
        }
      ]
    },
    {
      "cell_type": "code",
      "metadata": {
        "id": "E9qkMpEznWS1",
        "colab": {
          "base_uri": "https://localhost:8080/"
        },
        "outputId": "49ed337a-7fef-4456-f820-3cb32258a11f"
      },
      "source": [
        "sentiment_gru_glove.fit(X_training,Y_training,epochs= 5,batch_size=32,verbose=True,validation_data=(X_validating,Y_validating))"
      ],
      "execution_count": null,
      "outputs": [
        {
          "output_type": "stream",
          "text": [
            "Epoch 1/5\n",
            "1329/1329 [==============================] - 28s 20ms/step - loss: 1.0624 - acc: 0.6426 - val_loss: 0.7572 - val_acc: 0.7189\n",
            "Epoch 2/5\n",
            "1329/1329 [==============================] - 26s 19ms/step - loss: 0.6998 - acc: 0.7338 - val_loss: 0.6874 - val_acc: 0.7473\n",
            "Epoch 3/5\n",
            "1329/1329 [==============================] - 26s 20ms/step - loss: 0.5867 - acc: 0.7784 - val_loss: 0.6906 - val_acc: 0.7471\n",
            "Epoch 4/5\n",
            "1329/1329 [==============================] - 26s 20ms/step - loss: 0.5043 - acc: 0.8115 - val_loss: 0.7059 - val_acc: 0.7525\n",
            "Epoch 5/5\n",
            "1329/1329 [==============================] - 26s 20ms/step - loss: 0.4415 - acc: 0.8437 - val_loss: 0.7354 - val_acc: 0.7281\n"
          ],
          "name": "stdout"
        },
        {
          "output_type": "execute_result",
          "data": {
            "text/plain": [
              "<tensorflow.python.keras.callbacks.History at 0x7f4caf761c50>"
            ]
          },
          "metadata": {
            "tags": []
          },
          "execution_count": 84
        }
      ]
    },
    {
      "cell_type": "code",
      "metadata": {
        "id": "J4b2kvLUm-ap",
        "colab": {
          "base_uri": "https://localhost:8080/"
        },
        "outputId": "117db5cd-1b66-4934-f834-d6506b1492a5"
      },
      "source": [
        "test_loss, test_acc=sentiment_gru_glove.evaluate(test_X,test_y)\n",
        "pred_Y=sentiment_gru_glove.predict(test_X)\n",
        "print('Test Classification Report:')\n",
        "predictions_glove=[]\n",
        "for i in range(len(pred_Y)):\n",
        "  predictions_glove.append(np.argmax(pred_Y[i])+1)\n",
        "print(classification_report(test_data.ratings,predictions_glove))"
      ],
      "execution_count": null,
      "outputs": [
        {
          "output_type": "stream",
          "text": [
            "313/313 [==============================] - 1s 3ms/step - loss: 0.8928 - acc: 0.6720\n",
            "Test Classification Report:\n",
            "              precision    recall  f1-score   support\n",
            "\n",
            "           1       0.65      0.69      0.67      1271\n",
            "           2       0.29      0.18      0.22       630\n",
            "           3       0.34      0.39      0.36       911\n",
            "           4       0.34      0.36      0.35      1404\n",
            "           5       0.85      0.84      0.85      5784\n",
            "\n",
            "    accuracy                           0.67     10000\n",
            "   macro avg       0.49      0.49      0.49     10000\n",
            "weighted avg       0.67      0.67      0.67     10000\n",
            "\n"
          ],
          "name": "stdout"
        }
      ]
    },
    {
      "cell_type": "markdown",
      "metadata": {
        "id": "HDRSANNgndHl"
      },
      "source": [
        "#Bi-Directional GRU"
      ]
    },
    {
      "cell_type": "code",
      "metadata": {
        "id": "No2UjcPQm-cQ",
        "colab": {
          "base_uri": "https://localhost:8080/",
          "height": 949
        },
        "outputId": "5957bade-1e9e-4fc6-fea7-3fb586ed0b5c"
      },
      "source": [
        "# Add sequential model\n",
        "sentiment_bigru_glove = Sequential()\n",
        "# Add embedding layer \n",
        "#No of output dimenstions is 100 as we embedded with Glove 100d\n",
        "Embed_Layer = Embedding(vocab_size, 100, weights=[embedding_matrix], input_length=(MAX_SEQUENCE_LENGTH,), trainable=True)\n",
        "#define Inputs\n",
        "review_input = Input(shape=(MAX_SEQUENCE_LENGTH,),dtype= 'int32',name = 'review_input')\n",
        "review_embedding = Embed_Layer(review_input)\n",
        "Gru_Layer = Bidirectional(GRU(100))\n",
        "Gru = Gru_Layer(review_embedding)\n",
        "output_size = 5\n",
        "dense1= Dense(25,activation='sigmoid')(Gru)\n",
        "predict = Dense(5,activation='softmax')(dense1)\n",
        "\n",
        "sentiment_bigru_glove = Model(inputs=[review_input],outputs=[predict])\n",
        "sentiment_bigru_glove.compile(optimizer='adam',loss='categorical_crossentropy',metrics=['acc'])\n",
        "print(sentiment_bigru_glove.summary())\n",
        "SVG(model_to_dot(sentiment_bigru_glove).create(prog='dot', format='svg'))"
      ],
      "execution_count": null,
      "outputs": [
        {
          "output_type": "stream",
          "text": [
            "Model: \"model_10\"\n",
            "_________________________________________________________________\n",
            "Layer (type)                 Output Shape              Param #   \n",
            "=================================================================\n",
            "review_input (InputLayer)    [(None, 52)]              0         \n",
            "_________________________________________________________________\n",
            "embedding_10 (Embedding)     (None, 52, 100)           1949100   \n",
            "_________________________________________________________________\n",
            "bidirectional_3 (Bidirection (None, 200)               121200    \n",
            "_________________________________________________________________\n",
            "dense_20 (Dense)             (None, 25)                5025      \n",
            "_________________________________________________________________\n",
            "dense_21 (Dense)             (None, 5)                 130       \n",
            "=================================================================\n",
            "Total params: 2,075,455\n",
            "Trainable params: 2,075,455\n",
            "Non-trainable params: 0\n",
            "_________________________________________________________________\n",
            "None\n"
          ],
          "name": "stdout"
        },
        {
          "output_type": "execute_result",
          "data": {
            "text/plain": [
              "<IPython.core.display.SVG object>"
            ],
            "image/svg+xml": "<svg height=\"449pt\" viewBox=\"0.00 0.00 275.00 337.00\" width=\"367pt\" xmlns=\"http://www.w3.org/2000/svg\" xmlns:xlink=\"http://www.w3.org/1999/xlink\">\n<g class=\"graph\" id=\"graph0\" transform=\"scale(1.3333 1.3333) rotate(0) translate(4 333)\">\n<title>G</title>\n<polygon fill=\"#ffffff\" points=\"-4,4 -4,-333 271,-333 271,4 -4,4\" stroke=\"transparent\"/>\n<!-- 139964768427664 -->\n<g class=\"node\" id=\"node1\">\n<title>139964768427664</title>\n<polygon fill=\"none\" points=\"51.5,-292.5 51.5,-328.5 215.5,-328.5 215.5,-292.5 51.5,-292.5\" stroke=\"#000000\"/>\n<text fill=\"#000000\" font-family=\"Times,serif\" font-size=\"14.00\" text-anchor=\"middle\" x=\"133.5\" y=\"-306.8\">review_input: InputLayer</text>\n</g>\n<!-- 139964765093584 -->\n<g class=\"node\" id=\"node2\">\n<title>139964765093584</title>\n<polygon fill=\"none\" points=\"44,-219.5 44,-255.5 223,-255.5 223,-219.5 44,-219.5\" stroke=\"#000000\"/>\n<text fill=\"#000000\" font-family=\"Times,serif\" font-size=\"14.00\" text-anchor=\"middle\" x=\"133.5\" y=\"-233.8\">embedding_10: Embedding</text>\n</g>\n<!-- 139964768427664&#45;&gt;139964765093584 -->\n<g class=\"edge\" id=\"edge1\">\n<title>139964768427664-&gt;139964765093584</title>\n<path d=\"M133.5,-292.4551C133.5,-284.3828 133.5,-274.6764 133.5,-265.6817\" fill=\"none\" stroke=\"#000000\"/>\n<polygon fill=\"#000000\" points=\"137.0001,-265.5903 133.5,-255.5904 130.0001,-265.5904 137.0001,-265.5903\" stroke=\"#000000\"/>\n</g>\n<!-- 139964602171344 -->\n<g class=\"node\" id=\"node3\">\n<title>139964602171344</title>\n<polygon fill=\"none\" points=\"0,-146.5 0,-182.5 267,-182.5 267,-146.5 0,-146.5\" stroke=\"#000000\"/>\n<text fill=\"#000000\" font-family=\"Times,serif\" font-size=\"14.00\" text-anchor=\"middle\" x=\"133.5\" y=\"-160.8\">bidirectional_3(gru_3): Bidirectional(GRU)</text>\n</g>\n<!-- 139964765093584&#45;&gt;139964602171344 -->\n<g class=\"edge\" id=\"edge2\">\n<title>139964765093584-&gt;139964602171344</title>\n<path d=\"M133.5,-219.4551C133.5,-211.3828 133.5,-201.6764 133.5,-192.6817\" fill=\"none\" stroke=\"#000000\"/>\n<polygon fill=\"#000000\" points=\"137.0001,-192.5903 133.5,-182.5904 130.0001,-192.5904 137.0001,-192.5903\" stroke=\"#000000\"/>\n</g>\n<!-- 139965101999696 -->\n<g class=\"node\" id=\"node4\">\n<title>139965101999696</title>\n<polygon fill=\"none\" points=\"76.5,-73.5 76.5,-109.5 190.5,-109.5 190.5,-73.5 76.5,-73.5\" stroke=\"#000000\"/>\n<text fill=\"#000000\" font-family=\"Times,serif\" font-size=\"14.00\" text-anchor=\"middle\" x=\"133.5\" y=\"-87.8\">dense_20: Dense</text>\n</g>\n<!-- 139964602171344&#45;&gt;139965101999696 -->\n<g class=\"edge\" id=\"edge3\">\n<title>139964602171344-&gt;139965101999696</title>\n<path d=\"M133.5,-146.4551C133.5,-138.3828 133.5,-128.6764 133.5,-119.6817\" fill=\"none\" stroke=\"#000000\"/>\n<polygon fill=\"#000000\" points=\"137.0001,-119.5903 133.5,-109.5904 130.0001,-119.5904 137.0001,-119.5903\" stroke=\"#000000\"/>\n</g>\n<!-- 139965101199632 -->\n<g class=\"node\" id=\"node5\">\n<title>139965101199632</title>\n<polygon fill=\"none\" points=\"76.5,-.5 76.5,-36.5 190.5,-36.5 190.5,-.5 76.5,-.5\" stroke=\"#000000\"/>\n<text fill=\"#000000\" font-family=\"Times,serif\" font-size=\"14.00\" text-anchor=\"middle\" x=\"133.5\" y=\"-14.8\">dense_21: Dense</text>\n</g>\n<!-- 139965101999696&#45;&gt;139965101199632 -->\n<g class=\"edge\" id=\"edge4\">\n<title>139965101999696-&gt;139965101199632</title>\n<path d=\"M133.5,-73.4551C133.5,-65.3828 133.5,-55.6764 133.5,-46.6817\" fill=\"none\" stroke=\"#000000\"/>\n<polygon fill=\"#000000\" points=\"137.0001,-46.5903 133.5,-36.5904 130.0001,-46.5904 137.0001,-46.5903\" stroke=\"#000000\"/>\n</g>\n</g>\n</svg>"
          },
          "metadata": {
            "tags": []
          },
          "execution_count": 86
        }
      ]
    },
    {
      "cell_type": "code",
      "metadata": {
        "id": "paRDQFQcnwXY",
        "colab": {
          "base_uri": "https://localhost:8080/"
        },
        "outputId": "b685e0da-4afa-4ae4-bada-7cde5ce050be"
      },
      "source": [
        "sentiment_bigru_glove.fit(X_training,Y_training,epochs= 5,batch_size=32,verbose=True,validation_data=(X_validating,Y_validating))"
      ],
      "execution_count": null,
      "outputs": [
        {
          "output_type": "stream",
          "text": [
            "Epoch 1/5\n",
            "1329/1329 [==============================] - 33s 23ms/step - loss: 0.9753 - acc: 0.6657 - val_loss: 0.6879 - val_acc: 0.7456\n",
            "Epoch 2/5\n",
            "1329/1329 [==============================] - 30s 22ms/step - loss: 0.6468 - acc: 0.7562 - val_loss: 0.6524 - val_acc: 0.7501\n",
            "Epoch 3/5\n",
            "1329/1329 [==============================] - 29s 22ms/step - loss: 0.5463 - acc: 0.7924 - val_loss: 0.6578 - val_acc: 0.7489\n",
            "Epoch 4/5\n",
            "1329/1329 [==============================] - 30s 22ms/step - loss: 0.4574 - acc: 0.8340 - val_loss: 0.6917 - val_acc: 0.7549\n",
            "Epoch 5/5\n",
            "1329/1329 [==============================] - 29s 22ms/step - loss: 0.3866 - acc: 0.8641 - val_loss: 0.7440 - val_acc: 0.7383\n"
          ],
          "name": "stdout"
        },
        {
          "output_type": "execute_result",
          "data": {
            "text/plain": [
              "<tensorflow.python.keras.callbacks.History at 0x7f4c0c650890>"
            ]
          },
          "metadata": {
            "tags": []
          },
          "execution_count": 87
        }
      ]
    },
    {
      "cell_type": "code",
      "metadata": {
        "id": "fBMRO117gfc2"
      },
      "source": [
        ""
      ],
      "execution_count": null,
      "outputs": []
    },
    {
      "cell_type": "code",
      "metadata": {
        "id": "SSqH3Zy_nwVp",
        "colab": {
          "base_uri": "https://localhost:8080/"
        },
        "outputId": "419594a0-a9f2-4e3e-e55f-9e205e2ee5c7"
      },
      "source": [
        "test_loss, test_acc=sentiment_bigru_glove.evaluate(test_X,test_y)\n",
        "pred_Y=sentiment_bigru_glove.predict(test_X)\n",
        "print('Test Classification Report:')\n",
        "predictions_glove=[]\n",
        "for i in range(len(pred_Y)):\n",
        "  predictions_glove.append(np.argmax(pred_Y[i])+1)\n",
        "print(classification_report(test_data.ratings,predictions_glove))"
      ],
      "execution_count": null,
      "outputs": [
        {
          "output_type": "stream",
          "text": [
            "313/313 [==============================] - 1s 4ms/step - loss: 0.9187 - acc: 0.6804\n",
            "Test Classification Report:\n",
            "              precision    recall  f1-score   support\n",
            "\n",
            "           1       0.65      0.66      0.66      1271\n",
            "           2       0.27      0.19      0.22       630\n",
            "           3       0.36      0.42      0.39       911\n",
            "           4       0.36      0.32      0.34      1404\n",
            "           5       0.84      0.87      0.85      5784\n",
            "\n",
            "    accuracy                           0.68     10000\n",
            "   macro avg       0.50      0.49      0.49     10000\n",
            "weighted avg       0.67      0.68      0.67     10000\n",
            "\n"
          ],
          "name": "stdout"
        }
      ]
    },
    {
      "cell_type": "code",
      "metadata": {
        "id": "jJBQS7XQAQnm",
        "colab": {
          "base_uri": "https://localhost:8080/"
        },
        "outputId": "fa7affb7-3498-49a3-9da4-bb4409055bf0"
      },
      "source": [
        "#confusion matrix\n",
        "from sklearn.metrics import confusion_matrix\n",
        "confusion_matrix(test_data.ratings,predictions_glove)"
      ],
      "execution_count": null,
      "outputs": [
        {
          "output_type": "execute_result",
          "data": {
            "text/plain": [
              "array([[ 837,  176,  141,   35,   82],\n",
              "       [ 230,  118,  171,   47,   64],\n",
              "       [  99,   99,  386,  185,  142],\n",
              "       [  34,   26,  230,  450,  664],\n",
              "       [  79,   19,  145,  528, 5013]])"
            ]
          },
          "metadata": {
            "tags": []
          },
          "execution_count": 89
        }
      ]
    },
    {
      "cell_type": "code",
      "metadata": {
        "id": "hePatsUaXBfy",
        "colab": {
          "base_uri": "https://localhost:8080/"
        },
        "outputId": "4ada3940-16aa-4701-b238-21023cce5f9c"
      },
      "source": [
        "!pip install gradio"
      ],
      "execution_count": null,
      "outputs": [
        {
          "output_type": "stream",
          "text": [
            "Requirement already satisfied: gradio in /usr/local/lib/python3.7/dist-packages (1.6.4)\n",
            "Requirement already satisfied: librosa in /usr/local/lib/python3.7/dist-packages (from gradio) (0.8.0)\n",
            "Requirement already satisfied: analytics-python in /usr/local/lib/python3.7/dist-packages (from gradio) (1.2.9)\n",
            "Requirement already satisfied: flask-cachebuster in /usr/local/lib/python3.7/dist-packages (from gradio) (1.0.0)\n",
            "Requirement already satisfied: requests in /usr/local/lib/python3.7/dist-packages (from gradio) (2.23.0)\n",
            "Requirement already satisfied: ffmpy in /usr/local/lib/python3.7/dist-packages (from gradio) (0.3.0)\n",
            "Requirement already satisfied: numpy in /usr/local/lib/python3.7/dist-packages (from gradio) (1.19.5)\n",
            "Requirement already satisfied: scipy in /usr/local/lib/python3.7/dist-packages (from gradio) (1.4.1)\n",
            "Requirement already satisfied: scikit-image in /usr/local/lib/python3.7/dist-packages (from gradio) (0.16.2)\n",
            "Requirement already satisfied: paramiko in /usr/local/lib/python3.7/dist-packages (from gradio) (2.7.2)\n",
            "Requirement already satisfied: Flask-Cors>=3.0.8 in /usr/local/lib/python3.7/dist-packages (from gradio) (3.0.10)\n",
            "Requirement already satisfied: Flask-BasicAuth in /usr/local/lib/python3.7/dist-packages (from gradio) (0.2.0)\n",
            "Requirement already satisfied: colorama>=0.3.9 in /usr/local/lib/python3.7/dist-packages (from gradio) (0.4.4)\n",
            "Requirement already satisfied: pandas in /usr/local/lib/python3.7/dist-packages (from gradio) (1.1.5)\n",
            "Requirement already satisfied: IPython in /usr/local/lib/python3.7/dist-packages (from gradio) (5.5.0)\n",
            "Requirement already satisfied: markdown2 in /usr/local/lib/python3.7/dist-packages (from gradio) (2.4.0)\n",
            "Requirement already satisfied: Flask>=1.1.1 in /usr/local/lib/python3.7/dist-packages (from gradio) (1.1.2)\n",
            "Requirement already satisfied: audioread>=2.0.0 in /usr/local/lib/python3.7/dist-packages (from librosa->gradio) (2.1.9)\n",
            "Requirement already satisfied: scikit-learn!=0.19.0,>=0.14.0 in /usr/local/lib/python3.7/dist-packages (from librosa->gradio) (0.22.2.post1)\n",
            "Requirement already satisfied: joblib>=0.14 in /usr/local/lib/python3.7/dist-packages (from librosa->gradio) (1.0.1)\n",
            "Requirement already satisfied: numba>=0.43.0 in /usr/local/lib/python3.7/dist-packages (from librosa->gradio) (0.51.2)\n",
            "Requirement already satisfied: decorator>=3.0.0 in /usr/local/lib/python3.7/dist-packages (from librosa->gradio) (4.4.2)\n",
            "Requirement already satisfied: soundfile>=0.9.0 in /usr/local/lib/python3.7/dist-packages (from librosa->gradio) (0.10.3.post1)\n",
            "Requirement already satisfied: resampy>=0.2.2 in /usr/local/lib/python3.7/dist-packages (from librosa->gradio) (0.2.2)\n",
            "Requirement already satisfied: pooch>=1.0 in /usr/local/lib/python3.7/dist-packages (from librosa->gradio) (1.3.0)\n",
            "Requirement already satisfied: six>=1.5 in /usr/local/lib/python3.7/dist-packages (from analytics-python->gradio) (1.15.0)\n",
            "Requirement already satisfied: python-dateutil>2.1 in /usr/local/lib/python3.7/dist-packages (from analytics-python->gradio) (2.8.1)\n",
            "Requirement already satisfied: chardet<4,>=3.0.2 in /usr/local/lib/python3.7/dist-packages (from requests->gradio) (3.0.4)\n",
            "Requirement already satisfied: urllib3!=1.25.0,!=1.25.1,<1.26,>=1.21.1 in /usr/local/lib/python3.7/dist-packages (from requests->gradio) (1.24.3)\n",
            "Requirement already satisfied: certifi>=2017.4.17 in /usr/local/lib/python3.7/dist-packages (from requests->gradio) (2020.12.5)\n",
            "Requirement already satisfied: idna<3,>=2.5 in /usr/local/lib/python3.7/dist-packages (from requests->gradio) (2.10)\n",
            "Requirement already satisfied: imageio>=2.3.0 in /usr/local/lib/python3.7/dist-packages (from scikit-image->gradio) (2.4.1)\n",
            "Requirement already satisfied: pillow>=4.3.0 in /usr/local/lib/python3.7/dist-packages (from scikit-image->gradio) (7.1.2)\n",
            "Requirement already satisfied: networkx>=2.0 in /usr/local/lib/python3.7/dist-packages (from scikit-image->gradio) (2.5)\n",
            "Requirement already satisfied: matplotlib!=3.0.0,>=2.0.0 in /usr/local/lib/python3.7/dist-packages (from scikit-image->gradio) (3.2.2)\n",
            "Requirement already satisfied: PyWavelets>=0.4.0 in /usr/local/lib/python3.7/dist-packages (from scikit-image->gradio) (1.1.1)\n",
            "Requirement already satisfied: bcrypt>=3.1.3 in /usr/local/lib/python3.7/dist-packages (from paramiko->gradio) (3.2.0)\n",
            "Requirement already satisfied: pynacl>=1.0.1 in /usr/local/lib/python3.7/dist-packages (from paramiko->gradio) (1.4.0)\n",
            "Requirement already satisfied: cryptography>=2.5 in /usr/local/lib/python3.7/dist-packages (from paramiko->gradio) (3.4.7)\n",
            "Requirement already satisfied: pytz>=2017.2 in /usr/local/lib/python3.7/dist-packages (from pandas->gradio) (2018.9)\n",
            "Requirement already satisfied: setuptools>=18.5 in /usr/local/lib/python3.7/dist-packages (from IPython->gradio) (54.2.0)\n",
            "Requirement already satisfied: traitlets>=4.2 in /usr/local/lib/python3.7/dist-packages (from IPython->gradio) (5.0.5)\n",
            "Requirement already satisfied: simplegeneric>0.8 in /usr/local/lib/python3.7/dist-packages (from IPython->gradio) (0.8.1)\n",
            "Requirement already satisfied: pexpect; sys_platform != \"win32\" in /usr/local/lib/python3.7/dist-packages (from IPython->gradio) (4.8.0)\n",
            "Requirement already satisfied: prompt-toolkit<2.0.0,>=1.0.4 in /usr/local/lib/python3.7/dist-packages (from IPython->gradio) (1.0.18)\n",
            "Requirement already satisfied: pygments in /usr/local/lib/python3.7/dist-packages (from IPython->gradio) (2.6.1)\n",
            "Requirement already satisfied: pickleshare in /usr/local/lib/python3.7/dist-packages (from IPython->gradio) (0.7.5)\n",
            "Requirement already satisfied: click>=5.1 in /usr/local/lib/python3.7/dist-packages (from Flask>=1.1.1->gradio) (7.1.2)\n",
            "Requirement already satisfied: Jinja2>=2.10.1 in /usr/local/lib/python3.7/dist-packages (from Flask>=1.1.1->gradio) (2.11.3)\n",
            "Requirement already satisfied: itsdangerous>=0.24 in /usr/local/lib/python3.7/dist-packages (from Flask>=1.1.1->gradio) (1.1.0)\n",
            "Requirement already satisfied: Werkzeug>=0.15 in /usr/local/lib/python3.7/dist-packages (from Flask>=1.1.1->gradio) (1.0.1)\n",
            "Requirement already satisfied: llvmlite<0.35,>=0.34.0.dev0 in /usr/local/lib/python3.7/dist-packages (from numba>=0.43.0->librosa->gradio) (0.34.0)\n",
            "Requirement already satisfied: cffi>=1.0 in /usr/local/lib/python3.7/dist-packages (from soundfile>=0.9.0->librosa->gradio) (1.14.5)\n",
            "Requirement already satisfied: packaging in /usr/local/lib/python3.7/dist-packages (from pooch>=1.0->librosa->gradio) (20.9)\n",
            "Requirement already satisfied: appdirs in /usr/local/lib/python3.7/dist-packages (from pooch>=1.0->librosa->gradio) (1.4.4)\n",
            "Requirement already satisfied: kiwisolver>=1.0.1 in /usr/local/lib/python3.7/dist-packages (from matplotlib!=3.0.0,>=2.0.0->scikit-image->gradio) (1.3.1)\n",
            "Requirement already satisfied: cycler>=0.10 in /usr/local/lib/python3.7/dist-packages (from matplotlib!=3.0.0,>=2.0.0->scikit-image->gradio) (0.10.0)\n",
            "Requirement already satisfied: pyparsing!=2.0.4,!=2.1.2,!=2.1.6,>=2.0.1 in /usr/local/lib/python3.7/dist-packages (from matplotlib!=3.0.0,>=2.0.0->scikit-image->gradio) (2.4.7)\n",
            "Requirement already satisfied: ipython-genutils in /usr/local/lib/python3.7/dist-packages (from traitlets>=4.2->IPython->gradio) (0.2.0)\n",
            "Requirement already satisfied: ptyprocess>=0.5 in /usr/local/lib/python3.7/dist-packages (from pexpect; sys_platform != \"win32\"->IPython->gradio) (0.7.0)\n",
            "Requirement already satisfied: wcwidth in /usr/local/lib/python3.7/dist-packages (from prompt-toolkit<2.0.0,>=1.0.4->IPython->gradio) (0.2.5)\n",
            "Requirement already satisfied: MarkupSafe>=0.23 in /usr/local/lib/python3.7/dist-packages (from Jinja2>=2.10.1->Flask>=1.1.1->gradio) (1.1.1)\n",
            "Requirement already satisfied: pycparser in /usr/local/lib/python3.7/dist-packages (from cffi>=1.0->soundfile>=0.9.0->librosa->gradio) (2.20)\n"
          ],
          "name": "stdout"
        }
      ]
    },
    {
      "cell_type": "code",
      "metadata": {
        "id": "oDsHegOqXIIc",
        "colab": {
          "base_uri": "https://localhost:8080/",
          "height": 643
        },
        "outputId": "c7b59a1f-9ca6-4b2f-8d02-c5f11616f6ae"
      },
      "source": [
        "import gradio as gr\n",
        "\n",
        "def predict(sentence,model,embedding):\n",
        "  sent=sentence.lower()\n",
        "  sent= remove_punctuation(sent)\n",
        "  sent=word_tokenize(sent)\n",
        "  sent=tokenizer.texts_to_sequences(sent)\n",
        "  sentence=[]\n",
        "  for i in sent:\n",
        "    for j in i:\n",
        "      sentence.append(j)\n",
        "  while len(sentence)!=MAX_SEQUENCE_LENGTH:\n",
        "    if len(sentence)<MAX_SEQUENCE_LENGTH:\n",
        "      sentence.append(0)\n",
        "    else:\n",
        "      sentence.pop()\n",
        "  sentence=np.array(sentence) \n",
        "  sentence=(np.expand_dims(sentence,0))\n",
        "  if model == \"RNN\" and embedding == False:\n",
        "    probable=sentiment_rnn.predict(sentence)\n",
        "  elif model == \"RNN\" and embedding == True:\n",
        "    probable=sentiment_rnn_glove.predict(sentence)\n",
        "  elif model == \"LSTM\" and embedding == False:\n",
        "    probable=sentiment_lstm.predict(sentence)\n",
        "  elif model == \"LSTM\" and embedding == True:\n",
        "    probable=sentiment_lstm_glove.predict(sentence)\n",
        "  elif model == \"Bi-LSTM\" and embedding == False:\n",
        "    probable=sentiment_bilstm.predict(sentence)\n",
        "  elif model == \"Bi-LSTM\" and embedding == True:\n",
        "    probable=sentiment_bilstm_glove.predict(sentence)\n",
        "  elif model == \"GRU\" and embedding == False:\n",
        "    probable=sentiment_gru.predict(sentence)\n",
        "  elif model == \"GRU\" and embedding == True:\n",
        "    probable=sentiment_gru_glove.predict(sentence)\n",
        "  elif model == \"Bi-GRU\" and embedding == False:\n",
        "    probable=sentiment_bigru.predict(sentence)\n",
        "  elif model == \"Bi-GRU\" and embedding == True:\n",
        "    probable=sentiment_bigru_glove.predict(sentence)\n",
        "\n",
        "  return {'Class 1': probable[0][0]*100/100,\n",
        "          'Class 2': probable[0][1]*100/100,\n",
        "          'Class 3': probable[0][2]*100/100,\n",
        "          'Class 4': probable[0][3]*100/100,\n",
        "          'Class 5': probable[0][4]*100/100}\n",
        "\n",
        "iface = gr.Interface(\n",
        "    predict,\n",
        "    [\n",
        "        gr.inputs.Textbox(),\n",
        "        gr.inputs.Dropdown([\"RNN\",\"LSTM\",\"Bi-LSTM\",\"GRU\",\"Bi-GRU\"]),\n",
        "        gr.inputs.Checkbox(label=\"embedding\"),\n",
        "    ],\n",
        "    outputs = 'label',\n",
        "    interpretation=\"default\",\n",
        "    title = \"Sentiment Analysis\" )\n",
        "iface.launch()"
      ],
      "execution_count": null,
      "outputs": [
        {
          "output_type": "stream",
          "text": [
            "Colab notebook detected. To show errors in colab notebook, set `debug=True` in `launch()`\n",
            "This share link will expire in 24 hours. If you need a permanent link, visit: https://gradio.app/introducing-hosted (NEW!)\n",
            "Running on External URL: https://59870.gradio.app\n",
            "Interface loading below...\n"
          ],
          "name": "stdout"
        },
        {
          "output_type": "display_data",
          "data": {
            "text/html": [
              "\n",
              "        <iframe\n",
              "            width=\"1000\"\n",
              "            height=\"500\"\n",
              "            src=\"https://59870.gradio.app\"\n",
              "            frameborder=\"0\"\n",
              "            allowfullscreen\n",
              "        ></iframe>\n",
              "        "
            ],
            "text/plain": [
              "<IPython.lib.display.IFrame at 0x7f4c1659a290>"
            ]
          },
          "metadata": {
            "tags": []
          }
        },
        {
          "output_type": "execute_result",
          "data": {
            "text/plain": [
              "(<Flask 'gradio.networking'>,\n",
              " 'http://127.0.0.1:7870/',\n",
              " 'https://59870.gradio.app')"
            ]
          },
          "metadata": {
            "tags": []
          },
          "execution_count": 91
        }
      ]
    }
  ]
}